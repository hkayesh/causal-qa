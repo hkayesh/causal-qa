{
  "nbformat": 4,
  "nbformat_minor": 0,
  "metadata": {
    "colab": {
      "name": "Hassanzadeh CausalQA",
      "provenance": [],
      "toc_visible": true,
      "include_colab_link": true
    },
    "kernelspec": {
      "name": "python3",
      "display_name": "Python 3"
    },
    "accelerator": "GPU"
  },
  "cells": [
    {
      "cell_type": "markdown",
      "metadata": {
        "id": "view-in-github",
        "colab_type": "text"
      },
      "source": [
        "<a href=\"https://colab.research.google.com/github/hkayesh/causal-qa/blob/master/Hassanzadeh_CausalQA.ipynb\" target=\"_parent\"><img src=\"https://colab.research.google.com/assets/colab-badge.svg\" alt=\"Open In Colab\"/></a>"
      ]
    },
    {
      "cell_type": "code",
      "metadata": {
        "id": "EO1fyOBKbtBe",
        "colab_type": "code",
        "outputId": "59020668-8844-4bf7-9742-f5463dd4e0e0",
        "colab": {
          "base_uri": "https://localhost:8080/",
          "height": 139
        }
      },
      "source": [
        "! pip install faiss-gpu"
      ],
      "execution_count": 1,
      "outputs": [
        {
          "output_type": "stream",
          "text": [
            "Collecting faiss-gpu\n",
            "\u001b[?25l  Downloading https://files.pythonhosted.org/packages/0a/8d/d630c7ec7ad93feed005994c9849843d33bed08cf621ffb74fe9f81a45e2/faiss_gpu-1.6.1-cp36-cp36m-manylinux2010_x86_64.whl (41.0MB)\n",
            "\u001b[K     |████████████████████████████████| 41.0MB 82kB/s \n",
            "\u001b[?25hRequirement already satisfied: numpy in /usr/local/lib/python3.6/dist-packages (from faiss-gpu) (1.17.5)\n",
            "Installing collected packages: faiss-gpu\n",
            "Successfully installed faiss-gpu-1.6.1\n"
          ],
          "name": "stdout"
        }
      ]
    },
    {
      "cell_type": "code",
      "metadata": {
        "id": "R-Hx_dsecQ3G",
        "colab_type": "code",
        "outputId": "5c14ea68-9b9d-46d7-dc20-52991d6c4d4f",
        "colab": {
          "base_uri": "https://localhost:8080/",
          "height": 768
        }
      },
      "source": [
        "! pip install sentence-transformers"
      ],
      "execution_count": 2,
      "outputs": [
        {
          "output_type": "stream",
          "text": [
            "Collecting sentence-transformers\n",
            "\u001b[?25l  Downloading https://files.pythonhosted.org/packages/c9/91/c85ddef872d5bb39949386930c1f834ac382e145fcd30155b09d6fb65c5a/sentence-transformers-0.2.5.tar.gz (49kB)\n",
            "\r\u001b[K     |██████▋                         | 10kB 30.0MB/s eta 0:00:01\r\u001b[K     |█████████████▎                  | 20kB 2.1MB/s eta 0:00:01\r\u001b[K     |███████████████████▉            | 30kB 2.9MB/s eta 0:00:01\r\u001b[K     |██████████████████████████▌     | 40kB 2.1MB/s eta 0:00:01\r\u001b[K     |████████████████████████████████| 51kB 2.1MB/s \n",
            "\u001b[?25hCollecting transformers==2.3.0\n",
            "\u001b[?25l  Downloading https://files.pythonhosted.org/packages/50/10/aeefced99c8a59d828a92cc11d213e2743212d3641c87c82d61b035a7d5c/transformers-2.3.0-py3-none-any.whl (447kB)\n",
            "\r\u001b[K     |▊                               | 10kB 29.1MB/s eta 0:00:01\r\u001b[K     |█▌                              | 20kB 10.6MB/s eta 0:00:01\r\u001b[K     |██▏                             | 30kB 14.4MB/s eta 0:00:01\r\u001b[K     |███                             | 40kB 9.0MB/s eta 0:00:01\r\u001b[K     |███▋                            | 51kB 5.2MB/s eta 0:00:01\r\u001b[K     |████▍                           | 61kB 6.1MB/s eta 0:00:01\r\u001b[K     |█████▏                          | 71kB 6.6MB/s eta 0:00:01\r\u001b[K     |█████▉                          | 81kB 6.6MB/s eta 0:00:01\r\u001b[K     |██████▋                         | 92kB 7.3MB/s eta 0:00:01\r\u001b[K     |███████▎                        | 102kB 7.4MB/s eta 0:00:01\r\u001b[K     |████████                        | 112kB 7.4MB/s eta 0:00:01\r\u001b[K     |████████▉                       | 122kB 7.4MB/s eta 0:00:01\r\u001b[K     |█████████▌                      | 133kB 7.4MB/s eta 0:00:01\r\u001b[K     |██████████▎                     | 143kB 7.4MB/s eta 0:00:01\r\u001b[K     |███████████                     | 153kB 7.4MB/s eta 0:00:01\r\u001b[K     |███████████▊                    | 163kB 7.4MB/s eta 0:00:01\r\u001b[K     |████████████▌                   | 174kB 7.4MB/s eta 0:00:01\r\u001b[K     |█████████████▏                  | 184kB 7.4MB/s eta 0:00:01\r\u001b[K     |██████████████                  | 194kB 7.4MB/s eta 0:00:01\r\u001b[K     |██████████████▋                 | 204kB 7.4MB/s eta 0:00:01\r\u001b[K     |███████████████▍                | 215kB 7.4MB/s eta 0:00:01\r\u001b[K     |████████████████▏               | 225kB 7.4MB/s eta 0:00:01\r\u001b[K     |████████████████▉               | 235kB 7.4MB/s eta 0:00:01\r\u001b[K     |█████████████████▋              | 245kB 7.4MB/s eta 0:00:01\r\u001b[K     |██████████████████▎             | 256kB 7.4MB/s eta 0:00:01\r\u001b[K     |███████████████████             | 266kB 7.4MB/s eta 0:00:01\r\u001b[K     |███████████████████▊            | 276kB 7.4MB/s eta 0:00:01\r\u001b[K     |████████████████████▌           | 286kB 7.4MB/s eta 0:00:01\r\u001b[K     |█████████████████████▎          | 296kB 7.4MB/s eta 0:00:01\r\u001b[K     |██████████████████████          | 307kB 7.4MB/s eta 0:00:01\r\u001b[K     |██████████████████████▊         | 317kB 7.4MB/s eta 0:00:01\r\u001b[K     |███████████████████████▍        | 327kB 7.4MB/s eta 0:00:01\r\u001b[K     |████████████████████████▏       | 337kB 7.4MB/s eta 0:00:01\r\u001b[K     |█████████████████████████       | 348kB 7.4MB/s eta 0:00:01\r\u001b[K     |█████████████████████████▋      | 358kB 7.4MB/s eta 0:00:01\r\u001b[K     |██████████████████████████▍     | 368kB 7.4MB/s eta 0:00:01\r\u001b[K     |███████████████████████████     | 378kB 7.4MB/s eta 0:00:01\r\u001b[K     |███████████████████████████▉    | 389kB 7.4MB/s eta 0:00:01\r\u001b[K     |████████████████████████████▋   | 399kB 7.4MB/s eta 0:00:01\r\u001b[K     |█████████████████████████████▎  | 409kB 7.4MB/s eta 0:00:01\r\u001b[K     |██████████████████████████████  | 419kB 7.4MB/s eta 0:00:01\r\u001b[K     |██████████████████████████████▊ | 430kB 7.4MB/s eta 0:00:01\r\u001b[K     |███████████████████████████████▌| 440kB 7.4MB/s eta 0:00:01\r\u001b[K     |████████████████████████████████| 450kB 7.4MB/s \n",
            "\u001b[?25hRequirement already satisfied: tqdm in /usr/local/lib/python3.6/dist-packages (from sentence-transformers) (4.28.1)\n",
            "Requirement already satisfied: torch>=1.0.1 in /usr/local/lib/python3.6/dist-packages (from sentence-transformers) (1.3.1)\n",
            "Requirement already satisfied: numpy in /usr/local/lib/python3.6/dist-packages (from sentence-transformers) (1.17.5)\n",
            "Requirement already satisfied: scikit-learn in /usr/local/lib/python3.6/dist-packages (from sentence-transformers) (0.22.1)\n",
            "Requirement already satisfied: scipy in /usr/local/lib/python3.6/dist-packages (from sentence-transformers) (1.4.1)\n",
            "Requirement already satisfied: nltk in /usr/local/lib/python3.6/dist-packages (from sentence-transformers) (3.2.5)\n",
            "Requirement already satisfied: requests in /usr/local/lib/python3.6/dist-packages (from transformers==2.3.0->sentence-transformers) (2.21.0)\n",
            "Requirement already satisfied: boto3 in /usr/local/lib/python3.6/dist-packages (from transformers==2.3.0->sentence-transformers) (1.10.47)\n",
            "Requirement already satisfied: regex!=2019.12.17 in /usr/local/lib/python3.6/dist-packages (from transformers==2.3.0->sentence-transformers) (2019.12.20)\n",
            "Collecting sentencepiece\n",
            "\u001b[?25l  Downloading https://files.pythonhosted.org/packages/74/f4/2d5214cbf13d06e7cb2c20d84115ca25b53ea76fa1f0ade0e3c9749de214/sentencepiece-0.1.85-cp36-cp36m-manylinux1_x86_64.whl (1.0MB)\n",
            "\u001b[K     |████████████████████████████████| 1.0MB 16.6MB/s \n",
            "\u001b[?25hCollecting sacremoses\n",
            "\u001b[?25l  Downloading https://files.pythonhosted.org/packages/a6/b4/7a41d630547a4afd58143597d5a49e07bfd4c42914d8335b2a5657efc14b/sacremoses-0.0.38.tar.gz (860kB)\n",
            "\u001b[K     |████████████████████████████████| 870kB 15.1MB/s \n",
            "\u001b[?25hRequirement already satisfied: joblib>=0.11 in /usr/local/lib/python3.6/dist-packages (from scikit-learn->sentence-transformers) (0.14.1)\n",
            "Requirement already satisfied: six in /usr/local/lib/python3.6/dist-packages (from nltk->sentence-transformers) (1.12.0)\n",
            "Requirement already satisfied: idna<2.9,>=2.5 in /usr/local/lib/python3.6/dist-packages (from requests->transformers==2.3.0->sentence-transformers) (2.8)\n",
            "Requirement already satisfied: certifi>=2017.4.17 in /usr/local/lib/python3.6/dist-packages (from requests->transformers==2.3.0->sentence-transformers) (2019.11.28)\n",
            "Requirement already satisfied: chardet<3.1.0,>=3.0.2 in /usr/local/lib/python3.6/dist-packages (from requests->transformers==2.3.0->sentence-transformers) (3.0.4)\n",
            "Requirement already satisfied: urllib3<1.25,>=1.21.1 in /usr/local/lib/python3.6/dist-packages (from requests->transformers==2.3.0->sentence-transformers) (1.24.3)\n",
            "Requirement already satisfied: botocore<1.14.0,>=1.13.47 in /usr/local/lib/python3.6/dist-packages (from boto3->transformers==2.3.0->sentence-transformers) (1.13.47)\n",
            "Requirement already satisfied: jmespath<1.0.0,>=0.7.1 in /usr/local/lib/python3.6/dist-packages (from boto3->transformers==2.3.0->sentence-transformers) (0.9.4)\n",
            "Requirement already satisfied: s3transfer<0.3.0,>=0.2.0 in /usr/local/lib/python3.6/dist-packages (from boto3->transformers==2.3.0->sentence-transformers) (0.2.1)\n",
            "Requirement already satisfied: click in /usr/local/lib/python3.6/dist-packages (from sacremoses->transformers==2.3.0->sentence-transformers) (7.0)\n",
            "Requirement already satisfied: docutils<0.16,>=0.10 in /usr/local/lib/python3.6/dist-packages (from botocore<1.14.0,>=1.13.47->boto3->transformers==2.3.0->sentence-transformers) (0.15.2)\n",
            "Requirement already satisfied: python-dateutil<3.0.0,>=2.1; python_version >= \"2.7\" in /usr/local/lib/python3.6/dist-packages (from botocore<1.14.0,>=1.13.47->boto3->transformers==2.3.0->sentence-transformers) (2.6.1)\n",
            "Building wheels for collected packages: sentence-transformers, sacremoses\n",
            "  Building wheel for sentence-transformers (setup.py) ... \u001b[?25l\u001b[?25hdone\n",
            "  Created wheel for sentence-transformers: filename=sentence_transformers-0.2.5-cp36-none-any.whl size=64943 sha256=da3c29e1020f1cc611545a2aa8418de9e6ad1536af2a3eb45bd5758098b65e4b\n",
            "  Stored in directory: /root/.cache/pip/wheels/b4/ce/39/5bbda8ac34eb52df8c6531382ca077773fbfcbfb6386e5d66c\n",
            "  Building wheel for sacremoses (setup.py) ... \u001b[?25l\u001b[?25hdone\n",
            "  Created wheel for sacremoses: filename=sacremoses-0.0.38-cp36-none-any.whl size=884629 sha256=1f535f545c0b65f9dbb390c6dc067e57ef9aa8003cfc63e98699c722d65b78f8\n",
            "  Stored in directory: /root/.cache/pip/wheels/6d/ec/1a/21b8912e35e02741306f35f66c785f3afe94de754a0eaf1422\n",
            "Successfully built sentence-transformers sacremoses\n",
            "Installing collected packages: sentencepiece, sacremoses, transformers, sentence-transformers\n",
            "Successfully installed sacremoses-0.0.38 sentence-transformers-0.2.5 sentencepiece-0.1.85 transformers-2.3.0\n"
          ],
          "name": "stdout"
        }
      ]
    },
    {
      "cell_type": "code",
      "metadata": {
        "id": "CLB60QmFZDNZ",
        "colab_type": "code",
        "outputId": "3fa712c4-600e-4974-8010-1d6694852c2c",
        "colab": {
          "base_uri": "https://localhost:8080/",
          "height": 63
        }
      },
      "source": [
        "import re\n",
        "import faiss  \n",
        "import scipy.spatial\n",
        "import numpy as np\n",
        "import pandas as pd\n",
        "\n",
        "from google.colab import drive\n",
        "from sentence_transformers import SentenceTransformer\n",
        "from sklearn.metrics.pairwise import cosine_similarity\n",
        "from sklearn.model_selection import train_test_split\n",
        "from sklearn.metrics import precision_score, recall_score, f1_score, accuracy_score, roc_auc_score, confusion_matrix, matthews_corrcoef"
      ],
      "execution_count": 3,
      "outputs": [
        {
          "output_type": "display_data",
          "data": {
            "text/html": [
              "<p style=\"color: red;\">\n",
              "The default version of TensorFlow in Colab will soon switch to TensorFlow 2.x.<br>\n",
              "We recommend you <a href=\"https://www.tensorflow.org/guide/migrate\" target=\"_blank\">upgrade</a> now \n",
              "or ensure your notebook will continue to use TensorFlow 1.x via the <code>%tensorflow_version 1.x</code> magic:\n",
              "<a href=\"https://colab.research.google.com/notebooks/tensorflow_version.ipynb\" target=\"_blank\">more info</a>.</p>\n"
            ],
            "text/plain": [
              "<IPython.core.display.HTML object>"
            ]
          },
          "metadata": {
            "tags": []
          }
        }
      ]
    },
    {
      "cell_type": "code",
      "metadata": {
        "id": "34U1s8gHZ0PU",
        "colab_type": "code",
        "outputId": "ff85b8ef-a380-48f0-ce67-7c4fdd20f01c",
        "colab": {
          "base_uri": "https://localhost:8080/",
          "height": 122
        }
      },
      "source": [
        "drive.mount('/content/gdrive')"
      ],
      "execution_count": 4,
      "outputs": [
        {
          "output_type": "stream",
          "text": [
            "Go to this URL in a browser: https://accounts.google.com/o/oauth2/auth?client_id=947318989803-6bn6qk8qdgf4n4g3pfee6491hc0brc4i.apps.googleusercontent.com&redirect_uri=urn%3aietf%3awg%3aoauth%3a2.0%3aoob&response_type=code&scope=email%20https%3a%2f%2fwww.googleapis.com%2fauth%2fdocs.test%20https%3a%2f%2fwww.googleapis.com%2fauth%2fdrive%20https%3a%2f%2fwww.googleapis.com%2fauth%2fdrive.photos.readonly%20https%3a%2f%2fwww.googleapis.com%2fauth%2fpeopleapi.readonly\n",
            "\n",
            "Enter your authorization code:\n",
            "··········\n",
            "Mounted at /content/gdrive\n"
          ],
          "name": "stdout"
        }
      ]
    },
    {
      "cell_type": "code",
      "metadata": {
        "id": "JcJtP7hjaHOl",
        "colab_type": "code",
        "colab": {}
      },
      "source": [
        "RANDOM_SEED = 1\n",
        "TOP_N = 10\n",
        "EMBEDDING_DIM = 768\n",
        "NUM_CAUSAL_SENTENCES = 100000\n",
        "THRESHOLD_SELECTION = False\n",
        "DATASET_DIR_PATH = 'gdrive/My Drive/Research Data/CausalQA/datasets/'\n",
        "CAUSAL_SENTENCES_FILE_PATH = 'gdrive/My Drive/Research Data/CausalQA/causal_pairs_1M_articles.csv'\n",
        "CAUSAL_SENTENCES_EMBD_FILE_PATH = 'gdrive/My Drive/Research Data/CausalQA/causal_pairs_1M_articles_embds.txt'\n",
        "NOT_CAUSAL_SENTS_FILE_PATH = 'gdrive/My Drive/Research Data/CausalQA/not_causal_pairs_1M_sents.csv'"
      ],
      "execution_count": 0,
      "outputs": []
    },
    {
      "cell_type": "markdown",
      "metadata": {
        "id": "Sq0US3epkP1U",
        "colab_type": "text"
      },
      "source": [
        "### Load datasets"
      ]
    },
    {
      "cell_type": "code",
      "metadata": {
        "id": "Ya_pfVh7jP4d",
        "colab_type": "code",
        "outputId": "3e3a7dc6-fe68-4195-e5f1-9024387a89a3",
        "colab": {
          "base_uri": "https://localhost:8080/",
          "height": 221
        }
      },
      "source": [
        "causal_pairs_df = pd.read_csv(CAUSAL_SENTENCES_FILE_PATH, nrows=NUM_CAUSAL_SENTENCES, lineterminator='\\n', error_bad_lines=False)\n",
        "print(causal_pairs_df.shape)\n",
        "causal_pairs_df.head()"
      ],
      "execution_count": 6,
      "outputs": [
        {
          "output_type": "stream",
          "text": [
            "(100000, 3)\n"
          ],
          "name": "stdout"
        },
        {
          "output_type": "execute_result",
          "data": {
            "text/html": [
              "<div>\n",
              "<style scoped>\n",
              "    .dataframe tbody tr th:only-of-type {\n",
              "        vertical-align: middle;\n",
              "    }\n",
              "\n",
              "    .dataframe tbody tr th {\n",
              "        vertical-align: top;\n",
              "    }\n",
              "\n",
              "    .dataframe thead th {\n",
              "        text-align: right;\n",
              "    }\n",
              "</style>\n",
              "<table border=\"1\" class=\"dataframe\">\n",
              "  <thead>\n",
              "    <tr style=\"text-align: right;\">\n",
              "      <th></th>\n",
              "      <th>sentence</th>\n",
              "      <th>sequence_a</th>\n",
              "      <th>sequence_b</th>\n",
              "    </tr>\n",
              "  </thead>\n",
              "  <tbody>\n",
              "    <tr>\n",
              "      <th>0</th>\n",
              "      <td>the postal order was chosen because of its cen...</td>\n",
              "      <td>its central location and its proximity to the ...</td>\n",
              "      <td>the postal order was chosen</td>\n",
              "    </tr>\n",
              "    <tr>\n",
              "      <th>1</th>\n",
              "      <td>posted on sep 22, 2015\\rif you were a basketba...</td>\n",
              "      <td>you were a basketball fan who was born in the 80s</td>\n",
              "      <td>you were lucky enough to witness the beauty th...</td>\n",
              "    </tr>\n",
              "    <tr>\n",
              "      <th>2</th>\n",
              "      <td>individual dreams and visions have been aborte...</td>\n",
              "      <td>words of death spoken over them</td>\n",
              "      <td>individual dreams and visions have been aborted</td>\n",
              "    </tr>\n",
              "    <tr>\n",
              "      <th>3</th>\n",
              "      <td>homes and marriages have been destroyed becaus...</td>\n",
              "      <td>poisonous words</td>\n",
              "      <td>homes and marriages have been destroyed</td>\n",
              "    </tr>\n",
              "    <tr>\n",
              "      <th>4</th>\n",
              "      <td>companies and businesses have fallen because o...</td>\n",
              "      <td>words of envy and jealousy</td>\n",
              "      <td>companies and businesses have fallen</td>\n",
              "    </tr>\n",
              "  </tbody>\n",
              "</table>\n",
              "</div>"
            ],
            "text/plain": [
              "                                            sentence  ...                                         sequence_b\n",
              "0  the postal order was chosen because of its cen...  ...                        the postal order was chosen\n",
              "1  posted on sep 22, 2015\\rif you were a basketba...  ...  you were lucky enough to witness the beauty th...\n",
              "2  individual dreams and visions have been aborte...  ...    individual dreams and visions have been aborted\n",
              "3  homes and marriages have been destroyed becaus...  ...            homes and marriages have been destroyed\n",
              "4  companies and businesses have fallen because o...  ...               companies and businesses have fallen\n",
              "\n",
              "[5 rows x 3 columns]"
            ]
          },
          "metadata": {
            "tags": []
          },
          "execution_count": 6
        }
      ]
    },
    {
      "cell_type": "code",
      "metadata": {
        "id": "XkvOpX5Cm0OT",
        "colab_type": "code",
        "outputId": "a8ad4675-3a15-404c-c3db-016d0544ec83",
        "colab": {
          "base_uri": "https://localhost:8080/",
          "height": 886
        }
      },
      "source": [
        "! pip install apyori\n",
        "\n",
        "import nltk\n",
        " \n",
        "from nltk.tokenize import word_tokenize\n",
        "from nltk.corpus import stopwords\n",
        "from textblob import Word\n",
        "from nltk.stem import WordNetLemmatizer \n",
        "import seaborn as sns\n",
        "import matplotlib.pyplot as plt\n",
        "\n",
        "from apyori import apriori\n",
        "\n",
        "nltk.download('punkt')\n",
        "nltk.download('stopwords')\n",
        "nltk.download('wordnet')\n",
        "\n",
        "\n",
        "def get_heatmap_matrix(data_frame, target_col):\n",
        "  \n",
        "  words = list(set(data_frame['word_1'].tolist() + data_frame['word_2'].tolist()))\n",
        "  heatmap_matrix = np.zeros((len(words), len(words)))\n",
        "  for index, row in data_frame.iterrows():\n",
        "    i = words.index(row['word_1'])\n",
        "    j = words.index(row['word_2'])\n",
        "\n",
        "    value = row[target_col]\n",
        "\n",
        "    heatmap_matrix[i][j] = value\n",
        "    heatmap_matrix[j][i] = value\n",
        "  print(len(words))\n",
        "  return pd.DataFrame(heatmap_matrix, columns=words, index=words)\n",
        "\n",
        "def get_association_rules(cause_token_lists, min_support=0.00045, \n",
        "                          min_confidence=0.2, min_lift=3, min_length=2, max_length=2):\n",
        "  \n",
        "  results = list(apriori(cause_token_lists, min_support=min_support, \n",
        "                         min_confidence=min_confidence, min_lift=min_lift, \n",
        "                         min_length=min_length, max_length=max_length))\n",
        "  assoc_rules = []\n",
        "\n",
        "  for item in results:\n",
        "    pair = list(item[0]) \n",
        "    support = item[1]\n",
        "    confidence = item[2][0][2]\n",
        "    lift = item[2][0][3]\n",
        "    assoc_rules.append((pair[0], pair[1], support, confidence, lift))\n",
        "\n",
        "  assoc_rules_df = pd.DataFrame(assoc_rules, columns=['word_1', 'word_2', 'support', 'confidence', 'lift'])\n",
        "  assoc_rules_df.sort_values(by=['lift'])\n",
        "\n",
        "  return assoc_rules_df\n",
        "\n",
        "# generate heatmap for causal phrases\n",
        "lemmatizer = WordNetLemmatizer()\n",
        "phrase_max_len = 64\n",
        "\n",
        "causal_pairs_df['sequence_a'] = causal_pairs_df['sequence_a'].apply(lambda x: x.lower())\n",
        "causal_pairs_df['sequence_a'] = causal_pairs_df['sequence_a'].str.replace('[^\\w\\s]','')\n",
        "stop = stopwords.words('english')\n",
        "causal_pairs_df['sequence_a'] = causal_pairs_df['sequence_a'].apply(lambda x: \" \".join(x for x in x.split() if x not in stop))\n",
        "cause_token_lists = causal_pairs_df['sequence_a'].apply(lambda x: [lemmatizer.lemmatize(word).strip() for word in word_tokenize(x)]).tolist()\n",
        "cause_token_lists = [item for item in cause_token_lists if len(item) > 0]\n",
        "cause_token_lists = [item if len(item) <= phrase_max_len else item[:phrase_max_len] for item in cause_token_lists]\n",
        "\n",
        "causal_assoc_rules_df = get_association_rules(cause_token_lists, min_support=0.0025)\n",
        "heatmap_matrix = get_heatmap_matrix(causal_assoc_rules_df, 'confidence')\n",
        "\n",
        "fig, ax = plt.subplots()\n",
        "sns.heatmap(heatmap_matrix, vmax=1, vmin=0, cmap='YlGnBu', linewidths=.3, ax=ax, \n",
        "            cbar_kws={'label': 'Confidence'});\n",
        "plt.tight_layout()\n",
        "plt.savefig('causal_heatmap.pdf')\n",
        "\n",
        "# generate heatmap for effect phrases\n",
        "causal_pairs_df['sequence_b'] = causal_pairs_df['sequence_b'].apply(lambda x: x.lower())\n",
        "causal_pairs_df['sequence_b'] = causal_pairs_df['sequence_b'].str.replace('[^\\w\\s]','')\n",
        "causal_pairs_df['sequence_b'] = causal_pairs_df['sequence_b'].apply(lambda x: \" \".join(x for x in x.split() if x not in stop))\n",
        "effect_token_lists = causal_pairs_df['sequence_b'].apply(lambda x: [lemmatizer.lemmatize(word).strip() for word in word_tokenize(x)]).tolist()\n",
        "effect_token_lists = [item for item in effect_token_lists if len(item) > 0]\n",
        "effect_token_lists = [item if len(item) <= phrase_max_len else item[:phrase_max_len] for item in effect_token_lists]\n",
        "\n",
        "effect_assoc_rules_df = get_association_rules(effect_token_lists, min_support=0.002)\n",
        "heatmap_matrix = get_heatmap_matrix(effect_assoc_rules_df, 'confidence')\n",
        "\n",
        "fig, ax = plt.subplots()\n",
        "sns.heatmap(heatmap_matrix, vmax=1, vmin=0, cmap='YlGnBu', linewidths=.3, ax=ax, \n",
        "            cbar_kws={'label': 'Confidence'});\n",
        "plt.tight_layout()\n",
        "plt.savefig('effect_heatmap.pdf')"
      ],
      "execution_count": 7,
      "outputs": [
        {
          "output_type": "stream",
          "text": [
            "Collecting apyori\n",
            "  Downloading https://files.pythonhosted.org/packages/5e/62/5ffde5c473ea4b033490617ec5caa80d59804875ad3c3c57c0976533a21a/apyori-1.1.2.tar.gz\n",
            "Building wheels for collected packages: apyori\n",
            "  Building wheel for apyori (setup.py) ... \u001b[?25l\u001b[?25hdone\n",
            "  Created wheel for apyori: filename=apyori-1.1.2-cp36-none-any.whl size=5975 sha256=36989e6b930ecb93c359329a62ce17b3ba86c38242a374c95c2318c551144a99\n",
            "  Stored in directory: /root/.cache/pip/wheels/5d/92/bb/474bbadbc8c0062b9eb168f69982a0443263f8ab1711a8cad0\n",
            "Successfully built apyori\n",
            "Installing collected packages: apyori\n",
            "Successfully installed apyori-1.1.2\n",
            "[nltk_data] Downloading package punkt to /root/nltk_data...\n",
            "[nltk_data]   Unzipping tokenizers/punkt.zip.\n",
            "[nltk_data] Downloading package stopwords to /root/nltk_data...\n",
            "[nltk_data]   Unzipping corpora/stopwords.zip.\n",
            "[nltk_data] Downloading package wordnet to /root/nltk_data...\n",
            "[nltk_data]   Unzipping corpora/wordnet.zip.\n",
            "18\n",
            "15\n"
          ],
          "name": "stdout"
        },
        {
          "output_type": "display_data",
          "data": {
            "image/png": "[encoded data removed]",
            "text/plain": [
              "<Figure size 432x288 with 2 Axes>"
            ]
          },
          "metadata": {
            "tags": []
          }
        },
        {
          "output_type": "display_data",
          "data": {
            "image/png": "[encoded data removed]",
            "text/plain": [
              "<Figure size 432x288 with 2 Axes>"
            ]
          },
          "metadata": {
            "tags": []
          }
        }
      ]
    },
    {
      "cell_type": "markdown",
      "metadata": {
        "id": "IDs47tHUy5aR",
        "colab_type": "text"
      },
      "source": [
        "#### N-gram statistics"
      ]
    },
    {
      "cell_type": "code",
      "metadata": {
        "id": "aSUHoti_y0lz",
        "colab_type": "code",
        "outputId": "5578d3a0-74ef-411e-c193-8e7ed7ca254a",
        "colab": {
          "base_uri": "https://localhost:8080/",
          "height": 297
        }
      },
      "source": [
        "import nltk \n",
        "from collections import Counter\n",
        "from nltk.util import ngrams\n",
        "import itertools\n",
        "\n",
        "def display_ngram_bar_chart(data, out_file = None):\n",
        "  keys = [item[0] for item in data]\n",
        "  values = [item[1] for item in data]\n",
        "\n",
        "  y_pos = np.arange(len(keys))\n",
        "\n",
        "  plt.bar(y_pos, values, align='center', color='C1')\n",
        "  plt.xticks(y_pos, keys, rotation=90)\n",
        "  plt.ylabel('Counts')\n",
        "  plt.tight_layout()\n",
        "  if out_file is None:\n",
        "    plt.show()\n",
        "  else:\n",
        "    plt.savefig(out_file)\n",
        "\n",
        "top_n = 15\n",
        "flatten_causal_tokens = list(itertools.chain.from_iterable(cause_token_lists))\n",
        "causal_unigrams = Counter(flatten_causal_tokens).most_common(top_n)\n",
        "causal_bigrams = [(' '.join(item[0]), item[1])for item in Counter(ngrams(flatten_causal_tokens, 2)).most_common(top_n)]\n",
        "causal_trigrams = [(' '.join(item[0]), item[1])for item in Counter(ngrams(flatten_causal_tokens, 3)).most_common(top_n)]\n",
        "\n",
        "flatten_effect_tokens = list(itertools.chain.from_iterable(effect_token_lists))\n",
        "effect_unigrams = Counter(flatten_effect_tokens).most_common(top_n)\n",
        "effect_bigrams = [(' '.join(item[0]), item[1])for item in Counter(ngrams(flatten_effect_tokens, 2)).most_common(top_n)]\n",
        "effect_trigrams = [(' '.join(item[0]), item[1])for item in Counter(ngrams(flatten_effect_tokens, 3)).most_common(top_n)]\n",
        "\n",
        "display_ngram_bar_chart(causal_unigrams, 'causal_unigram_frequency.pdf')\n",
        "display_ngram_bar_chart(causal_bigrams, 'causal_bigram_frequency.pdf')\n",
        "display_ngram_bar_chart(causal_trigrams, 'causal_trigram_frequency.pdf')\n",
        "\n",
        "display_ngram_bar_chart(effect_unigrams, 'effect_unigram_frequency.pdf')\n",
        "display_ngram_bar_chart(effect_bigrams, 'effect_bigram_frequency.pdf')\n",
        "display_ngram_bar_chart(effect_trigrams, 'effect_trigram_frequency.pdf')\n"
      ],
      "execution_count": 8,
      "outputs": [
        {
          "output_type": "display_data",
          "data": {
            "image/png": "[encoded data removed]",
            "text/plain": [
              "<Figure size 432x288 with 1 Axes>"
            ]
          },
          "metadata": {
            "tags": []
          }
        }
      ]
    },
    {
      "cell_type": "code",
      "metadata": {
        "id": "xkwpVG0Wjp08",
        "colab_type": "code",
        "outputId": "011cb875-b5d7-400d-f5c9-deb16e6b4d82",
        "colab": {
          "base_uri": "https://localhost:8080/",
          "height": 204
        }
      },
      "source": [
        "semeval_file_path = DATASET_DIR_PATH + 'semeval-benchmark-v1.csv'\n",
        "risk_file_path = DATASET_DIR_PATH + 'risk-models-benchmark-v1.csv'\n",
        "nato_sfa_file_path = DATASET_DIR_PATH + 'nato-sfa-benchmark-v1.csv'\n",
        "ce_me_file_path = DATASET_DIR_PATH + 'ce-me-benchmark-v1.csv'\n",
        "ce_twitter_file_path = DATASET_DIR_PATH + 'twitter-causal-dataset.csv'\n",
        "\n",
        "sem_eval_df = pd.read_csv(semeval_file_path, names=['cause', 'effect', 'label'], header=None)\n",
        "sem_eval_df.head()"
      ],
      "execution_count": 9,
      "outputs": [
        {
          "output_type": "execute_result",
          "data": {
            "text/html": [
              "<div>\n",
              "<style scoped>\n",
              "    .dataframe tbody tr th:only-of-type {\n",
              "        vertical-align: middle;\n",
              "    }\n",
              "\n",
              "    .dataframe tbody tr th {\n",
              "        vertical-align: top;\n",
              "    }\n",
              "\n",
              "    .dataframe thead th {\n",
              "        text-align: right;\n",
              "    }\n",
              "</style>\n",
              "<table border=\"1\" class=\"dataframe\">\n",
              "  <thead>\n",
              "    <tr style=\"text-align: right;\">\n",
              "      <th></th>\n",
              "      <th>cause</th>\n",
              "      <th>effect</th>\n",
              "      <th>label</th>\n",
              "    </tr>\n",
              "  </thead>\n",
              "  <tbody>\n",
              "    <tr>\n",
              "      <th>0</th>\n",
              "      <td>dwarf</td>\n",
              "      <td>emission</td>\n",
              "      <td>causal</td>\n",
              "    </tr>\n",
              "    <tr>\n",
              "      <th>1</th>\n",
              "      <td>disease</td>\n",
              "      <td>blindness</td>\n",
              "      <td>causal</td>\n",
              "    </tr>\n",
              "    <tr>\n",
              "      <th>2</th>\n",
              "      <td>women</td>\n",
              "      <td>accident</td>\n",
              "      <td>causal</td>\n",
              "    </tr>\n",
              "    <tr>\n",
              "      <th>3</th>\n",
              "      <td>reading</td>\n",
              "      <td>rage</td>\n",
              "      <td>causal</td>\n",
              "    </tr>\n",
              "    <tr>\n",
              "      <th>4</th>\n",
              "      <td>snowstorm</td>\n",
              "      <td>losses</td>\n",
              "      <td>causal</td>\n",
              "    </tr>\n",
              "  </tbody>\n",
              "</table>\n",
              "</div>"
            ],
            "text/plain": [
              "       cause     effect   label\n",
              "0      dwarf   emission  causal\n",
              "1    disease  blindness  causal\n",
              "2      women   accident  causal\n",
              "3    reading       rage  causal\n",
              "4  snowstorm     losses  causal"
            ]
          },
          "metadata": {
            "tags": []
          },
          "execution_count": 9
        }
      ]
    },
    {
      "cell_type": "code",
      "metadata": {
        "id": "z-XaB57lj5Ez",
        "colab_type": "code",
        "outputId": "a33b2b9e-34b3-4d1a-a07b-65b4ad04862c",
        "colab": {
          "base_uri": "https://localhost:8080/",
          "height": 204
        }
      },
      "source": [
        "risk_df = pd.read_csv(risk_file_path, names=['cause', 'effect', 'label'], header=None)\n",
        "risk_df['cause'] = risk_df['cause'].apply(lambda x: re.sub('\\s\\[\\d+\\]$', '', x))  # remove '[n]' from the end\n",
        "risk_df['effect'] = risk_df['effect'].apply(lambda x: re.sub('\\s\\[\\d+\\]$', '', x))  # remove '[n]' from the end\n",
        "risk_df.head()"
      ],
      "execution_count": 10,
      "outputs": [
        {
          "output_type": "execute_result",
          "data": {
            "text/html": [
              "<div>\n",
              "<style scoped>\n",
              "    .dataframe tbody tr th:only-of-type {\n",
              "        vertical-align: middle;\n",
              "    }\n",
              "\n",
              "    .dataframe tbody tr th {\n",
              "        vertical-align: top;\n",
              "    }\n",
              "\n",
              "    .dataframe thead th {\n",
              "        text-align: right;\n",
              "    }\n",
              "</style>\n",
              "<table border=\"1\" class=\"dataframe\">\n",
              "  <thead>\n",
              "    <tr style=\"text-align: right;\">\n",
              "      <th></th>\n",
              "      <th>cause</th>\n",
              "      <th>effect</th>\n",
              "      <th>label</th>\n",
              "    </tr>\n",
              "  </thead>\n",
              "  <tbody>\n",
              "    <tr>\n",
              "      <th>0</th>\n",
              "      <td>new competitors</td>\n",
              "      <td>increasing profits for our clients</td>\n",
              "      <td>causal</td>\n",
              "    </tr>\n",
              "    <tr>\n",
              "      <th>1</th>\n",
              "      <td>new competitors</td>\n",
              "      <td>increased speed efficiency, and lower cost</td>\n",
              "      <td>causal</td>\n",
              "    </tr>\n",
              "    <tr>\n",
              "      <th>2</th>\n",
              "      <td>increased speed efficiency, and lower cost</td>\n",
              "      <td>increasing profits for our clients</td>\n",
              "      <td>causal</td>\n",
              "    </tr>\n",
              "    <tr>\n",
              "      <th>3</th>\n",
              "      <td>increased speed efficiency, and lower cost</td>\n",
              "      <td>increasing profits for our clients</td>\n",
              "      <td>causal</td>\n",
              "    </tr>\n",
              "    <tr>\n",
              "      <th>4</th>\n",
              "      <td>changing market driving the needs for new busi...</td>\n",
              "      <td>increased importance of bundling products</td>\n",
              "      <td>causal</td>\n",
              "    </tr>\n",
              "  </tbody>\n",
              "</table>\n",
              "</div>"
            ],
            "text/plain": [
              "                                               cause  ...   label\n",
              "0                                    new competitors  ...  causal\n",
              "1                                    new competitors  ...  causal\n",
              "2         increased speed efficiency, and lower cost  ...  causal\n",
              "3         increased speed efficiency, and lower cost  ...  causal\n",
              "4  changing market driving the needs for new busi...  ...  causal\n",
              "\n",
              "[5 rows x 3 columns]"
            ]
          },
          "metadata": {
            "tags": []
          },
          "execution_count": 10
        }
      ]
    },
    {
      "cell_type": "code",
      "metadata": {
        "id": "1bZDcpLwj7rd",
        "colab_type": "code",
        "outputId": "01bf7b46-905f-45b7-95fe-30cddaf264c3",
        "colab": {
          "base_uri": "https://localhost:8080/",
          "height": 204
        }
      },
      "source": [
        "nato_sfa_df = pd.read_csv(nato_sfa_file_path, names=['cause', 'effect', 'label'], header=None)\n",
        "nato_sfa_df.head()"
      ],
      "execution_count": 11,
      "outputs": [
        {
          "output_type": "execute_result",
          "data": {
            "text/html": [
              "<div>\n",
              "<style scoped>\n",
              "    .dataframe tbody tr th:only-of-type {\n",
              "        vertical-align: middle;\n",
              "    }\n",
              "\n",
              "    .dataframe tbody tr th {\n",
              "        vertical-align: top;\n",
              "    }\n",
              "\n",
              "    .dataframe thead th {\n",
              "        text-align: right;\n",
              "    }\n",
              "</style>\n",
              "<table border=\"1\" class=\"dataframe\">\n",
              "  <thead>\n",
              "    <tr style=\"text-align: right;\">\n",
              "      <th></th>\n",
              "      <th>cause</th>\n",
              "      <th>effect</th>\n",
              "      <th>label</th>\n",
              "    </tr>\n",
              "  </thead>\n",
              "  <tbody>\n",
              "    <tr>\n",
              "      <th>0</th>\n",
              "      <td>Increased global inequality</td>\n",
              "      <td>Migration</td>\n",
              "      <td>causal</td>\n",
              "    </tr>\n",
              "    <tr>\n",
              "      <th>1</th>\n",
              "      <td>Natural disasters</td>\n",
              "      <td>Unavailability of national military assets due...</td>\n",
              "      <td>causal</td>\n",
              "    </tr>\n",
              "    <tr>\n",
              "      <th>2</th>\n",
              "      <td>Increasingly connected human networks</td>\n",
              "      <td>An increasing need to understand human networks</td>\n",
              "      <td>causal</td>\n",
              "    </tr>\n",
              "    <tr>\n",
              "      <th>3</th>\n",
              "      <td>Fractured and/or polarized societies</td>\n",
              "      <td>Instability and civil war</td>\n",
              "      <td>causal</td>\n",
              "    </tr>\n",
              "    <tr>\n",
              "      <th>4</th>\n",
              "      <td>Fractured and/or polarized societies</td>\n",
              "      <td>Instability along NATO’s border causing large-...</td>\n",
              "      <td>causal</td>\n",
              "    </tr>\n",
              "  </tbody>\n",
              "</table>\n",
              "</div>"
            ],
            "text/plain": [
              "                                   cause  ...   label\n",
              "0            Increased global inequality  ...  causal\n",
              "1                      Natural disasters  ...  causal\n",
              "2  Increasingly connected human networks  ...  causal\n",
              "3   Fractured and/or polarized societies  ...  causal\n",
              "4   Fractured and/or polarized societies  ...  causal\n",
              "\n",
              "[5 rows x 3 columns]"
            ]
          },
          "metadata": {
            "tags": []
          },
          "execution_count": 11
        }
      ]
    },
    {
      "cell_type": "code",
      "metadata": {
        "id": "yFgICBo3j98B",
        "colab_type": "code",
        "outputId": "7f4e0837-4747-4627-abef-dede563ab06b",
        "colab": {
          "base_uri": "https://localhost:8080/",
          "height": 204
        }
      },
      "source": [
        "ce_me_df = pd.read_csv(ce_me_file_path, names=['cause', 'effect', 'label'], header=None)\n",
        "ce_me_df.head()"
      ],
      "execution_count": 12,
      "outputs": [
        {
          "output_type": "execute_result",
          "data": {
            "text/html": [
              "<div>\n",
              "<style scoped>\n",
              "    .dataframe tbody tr th:only-of-type {\n",
              "        vertical-align: middle;\n",
              "    }\n",
              "\n",
              "    .dataframe tbody tr th {\n",
              "        vertical-align: top;\n",
              "    }\n",
              "\n",
              "    .dataframe thead th {\n",
              "        text-align: right;\n",
              "    }\n",
              "</style>\n",
              "<table border=\"1\" class=\"dataframe\">\n",
              "  <thead>\n",
              "    <tr style=\"text-align: right;\">\n",
              "      <th></th>\n",
              "      <th>cause</th>\n",
              "      <th>effect</th>\n",
              "      <th>label</th>\n",
              "    </tr>\n",
              "  </thead>\n",
              "  <tbody>\n",
              "    <tr>\n",
              "      <th>0</th>\n",
              "      <td>A strong dollar and a low oil price</td>\n",
              "      <td>profits of multinationals have dropped by 25%</td>\n",
              "      <td>causal</td>\n",
              "    </tr>\n",
              "    <tr>\n",
              "      <th>1</th>\n",
              "      <td>country increases imports</td>\n",
              "      <td>country decreasing balance of trade</td>\n",
              "      <td>causal</td>\n",
              "    </tr>\n",
              "    <tr>\n",
              "      <th>2</th>\n",
              "      <td>plunge in the value of local currency</td>\n",
              "      <td>country decreasing foreign reserves</td>\n",
              "      <td>causal</td>\n",
              "    </tr>\n",
              "    <tr>\n",
              "      <th>3</th>\n",
              "      <td>increase in national debt</td>\n",
              "      <td>decrease in real annual economic growth</td>\n",
              "      <td>causal</td>\n",
              "    </tr>\n",
              "    <tr>\n",
              "      <th>4</th>\n",
              "      <td>increase in the demand for a currency</td>\n",
              "      <td>rise in the exchange rate</td>\n",
              "      <td>causal</td>\n",
              "    </tr>\n",
              "  </tbody>\n",
              "</table>\n",
              "</div>"
            ],
            "text/plain": [
              "                                   cause  ...   label\n",
              "0    A strong dollar and a low oil price  ...  causal\n",
              "1              country increases imports  ...  causal\n",
              "2  plunge in the value of local currency  ...  causal\n",
              "3              increase in national debt  ...  causal\n",
              "4  increase in the demand for a currency  ...  causal\n",
              "\n",
              "[5 rows x 3 columns]"
            ]
          },
          "metadata": {
            "tags": []
          },
          "execution_count": 12
        }
      ]
    },
    {
      "cell_type": "code",
      "metadata": {
        "id": "m4D8dtshqlmF",
        "colab_type": "code",
        "outputId": "b89608b8-310d-4bbd-e584-2f0351195009",
        "colab": {
          "base_uri": "https://localhost:8080/",
          "height": 204
        }
      },
      "source": [
        "ce_twitter_df = pd.read_csv(ce_twitter_file_path)\n",
        "ce_twitter_df['label'] = ce_twitter_df['label'].apply(lambda x: 'non_causal' if x == 'not-causal' else x)\n",
        "ce_twitter_df.head()"
      ],
      "execution_count": 13,
      "outputs": [
        {
          "output_type": "execute_result",
          "data": {
            "text/html": [
              "<div>\n",
              "<style scoped>\n",
              "    .dataframe tbody tr th:only-of-type {\n",
              "        vertical-align: middle;\n",
              "    }\n",
              "\n",
              "    .dataframe tbody tr th {\n",
              "        vertical-align: top;\n",
              "    }\n",
              "\n",
              "    .dataframe thead th {\n",
              "        text-align: right;\n",
              "    }\n",
              "</style>\n",
              "<table border=\"1\" class=\"dataframe\">\n",
              "  <thead>\n",
              "    <tr style=\"text-align: right;\">\n",
              "      <th></th>\n",
              "      <th>cause</th>\n",
              "      <th>effect</th>\n",
              "      <th>label</th>\n",
              "    </tr>\n",
              "  </thead>\n",
              "  <tbody>\n",
              "    <tr>\n",
              "      <th>0</th>\n",
              "      <td>i ned to be front and centre</td>\n",
              "      <td>it’s al about me</td>\n",
              "      <td>non_causal</td>\n",
              "    </tr>\n",
              "    <tr>\n",
              "      <th>1</th>\n",
              "      <td>families truly suport girl-child</td>\n",
              "      <td>we can se that sky to is not the limit</td>\n",
              "      <td>causal</td>\n",
              "    </tr>\n",
              "    <tr>\n",
              "      <th>2</th>\n",
              "      <td>blinding youth with pelet guns was a #comonwea...</td>\n",
              "      <td>india would win a gold every hour</td>\n",
              "      <td>non_causal</td>\n",
              "    </tr>\n",
              "    <tr>\n",
              "      <th>3</th>\n",
              "      <td>they were so intolerant to an individuals thou...</td>\n",
              "      <td>they cant telecast #comonwealthgames2018 medal...</td>\n",
              "      <td>causal</td>\n",
              "    </tr>\n",
              "    <tr>\n",
              "      <th>4</th>\n",
              "      <td>you can't wait until then</td>\n",
              "      <td>you can watch it here:</td>\n",
              "      <td>causal</td>\n",
              "    </tr>\n",
              "  </tbody>\n",
              "</table>\n",
              "</div>"
            ],
            "text/plain": [
              "                                               cause  ...       label\n",
              "0                       i ned to be front and centre  ...  non_causal\n",
              "1                   families truly suport girl-child  ...      causal\n",
              "2  blinding youth with pelet guns was a #comonwea...  ...  non_causal\n",
              "3  they were so intolerant to an individuals thou...  ...      causal\n",
              "4                          you can't wait until then  ...      causal\n",
              "\n",
              "[5 rows x 3 columns]"
            ]
          },
          "metadata": {
            "tags": []
          },
          "execution_count": 13
        }
      ]
    },
    {
      "cell_type": "markdown",
      "metadata": {
        "id": "Pubxym1ekVRw",
        "colab_type": "text"
      },
      "source": [
        "### Load pretrained model"
      ]
    },
    {
      "cell_type": "code",
      "metadata": {
        "id": "5X9WUb5vktc2",
        "colab_type": "code",
        "outputId": "8d0f6232-8753-4ca2-da6d-f3ce6491d5f9",
        "colab": {
          "base_uri": "https://localhost:8080/",
          "height": 34
        }
      },
      "source": [
        "embedder = SentenceTransformer('bert-base-nli-mean-tokens')"
      ],
      "execution_count": 14,
      "outputs": [
        {
          "output_type": "stream",
          "text": [
            "100%|██████████| 405M/405M [01:13<00:00, 5.54MB/s]\n"
          ],
          "name": "stderr"
        }
      ]
    },
    {
      "cell_type": "code",
      "metadata": {
        "id": "jhUqZ5jdYKaQ",
        "colab_type": "code",
        "colab": {}
      },
      "source": [
        "if not THRESHOLD_SELECTION:\n",
        "  # Corpus with example sentences\n",
        "\n",
        "  # corpus = causal_pairs_df['sentence'].tolist()\n",
        "  # corpus_embeddings = embedder.encode(corpus)\n",
        "  # corpus_embeddings = np.asarray(corpus_embeddings, dtype='float32')\n",
        "\n",
        "  corpus_embeddings = np.asarray(np.loadtxt(CAUSAL_SENTENCES_EMBD_FILE_PATH), dtype='float32')\n",
        "  if NUM_CAUSAL_SENTENCES is not None:\n",
        "    corpus_embeddings = corpus_embeddings[:NUM_CAUSAL_SENTENCES]\n",
        "\n",
        "  corpus_embeddings.shape\n",
        "\n",
        "  faiss_index = faiss.IndexFlatL2(EMBEDDING_DIM)   # build the index\n",
        "  faiss_index.add(np.asarray(corpus_embeddings, dtype='float32'))     # add vectors to the index"
      ],
      "execution_count": 0,
      "outputs": []
    },
    {
      "cell_type": "markdown",
      "metadata": {
        "id": "lGTf3MR1P2AS",
        "colab_type": "text"
      },
      "source": [
        "### Eevaluation"
      ]
    },
    {
      "cell_type": "code",
      "metadata": {
        "id": "NKcVSKtJQ7z3",
        "colab_type": "code",
        "colab": {}
      },
      "source": [
        "def get_bert_sim_scores(faiss_index, sents_embds, corpus_embds, top_n):\n",
        "  _, index_lists = faiss_index.search(sents_embds, top_n)\n",
        "  \n",
        "  bert_sim_scores = []\n",
        "  for sent_embd, index_list in zip(sents_embds, index_lists):\n",
        "    top_n_embds = np.asarray([corpus_embds[index] for index in index_list])\n",
        "    sent_embd = sent_embd.reshape(1, EMBEDDING_DIM)\n",
        "\n",
        "    bert_sim_score = sum(cosine_similarity(sent_embd, top_n_embds)[0])/len(top_n_embds)\n",
        "    bert_sim_scores.append(bert_sim_score)\n",
        "\n",
        "  return bert_sim_scores\n",
        "\n",
        "def get_c_scores(sim_scores, rvrs_scores):\n",
        "  c_scores = []\n",
        "  for sim_score, rvrs_score in zip(sim_scores, rvrs_scores):\n",
        "    if rvrs_score > 0:\n",
        "      c_score = sim_score/rvrs_score\n",
        "    else:\n",
        "      c_score = sim_score\n",
        "\n",
        "    c_scores.append(c_score)\n",
        "  return c_scores \n",
        "\n",
        "def get_labels(sim_scores, c_scores, threshold_1=0.91, threshold_2=0.65):\n",
        "  assert(len(sim_scores) == len(c_scores))\n",
        "\n",
        "  labels = []\n",
        "  for sim_score, c_score in zip(sim_scores, c_scores):\n",
        "    label = 0\n",
        "    if sim_score >= threshold_1 and c_score >= threshold_2:\n",
        "      label = 1\n",
        "    labels.append(label)\n",
        "  \n",
        "  return labels"
      ],
      "execution_count": 0,
      "outputs": []
    },
    {
      "cell_type": "markdown",
      "metadata": {
        "id": "dZ_BGLYay9W8",
        "colab_type": "text"
      },
      "source": [
        "#### Threshold Selection"
      ]
    },
    {
      "cell_type": "code",
      "metadata": {
        "id": "UDcxdc3Ly7cC",
        "colab_type": "code",
        "colab": {}
      },
      "source": [
        "if THRESHOLD_SELECTION:\n",
        "  X = causal_pairs_df\n",
        "  y = pd.Series(['causal'] * len(X))\n",
        "\n",
        "  X_train, X_valid_causal, y_train, y_valid_causal = train_test_split(X, y, test_size = 0.25, random_state = RANDOM_SEED)\n",
        "  sentences = X_train['sentence'].tolist()\n",
        "\n",
        "  X_valid_causal['label'] = y_valid_causal\n",
        "\n",
        "  X_valid_not_causal = pd.read_csv(NOT_CAUSAL_SENTS_FILE_PATH, nrows=len(X_valid_causal), lineterminator='\\n', error_bad_lines=False)\n",
        "  X_valid_not_causal['label'] = pd.Series(['non_causal'] * len(X))\n",
        "\n",
        "  X_valid = pd.concat([X_valid_causal, X_valid_not_causal], axis=0, join='outer', ignore_index=False, keys=None,\n",
        "            levels=None, names=None, verify_integrity=False, copy=True)\n",
        "\n",
        "\n",
        "\n",
        "  corpus_embeddings = embedder.encode(sentences)\n",
        "  corpus_embeddings = np.asarray(corpus_embeddings, dtype='float32')\n",
        "\n",
        "  faiss_index = faiss.IndexFlatL2(EMBEDDING_DIM)   # build the index\n",
        "  faiss_index.add(np.asarray(corpus_embeddings, dtype='float32'))     # add vectors to the index"
      ],
      "execution_count": 0,
      "outputs": []
    },
    {
      "cell_type": "code",
      "metadata": {
        "id": "cYICZcdHHeNE",
        "colab_type": "code",
        "colab": {}
      },
      "source": [
        "if THRESHOLD_SELECTION:\n",
        "  print('Th1_Th2, Acc, Precision, Recall, F1-score')\n",
        "  for threshold_1 in np.arange(0.0, 1.0, 0.30):\n",
        "    for threshold_2 in np.arange(0.0, 1.3, 0.30):\n",
        "      dataset_df = X_valid\n",
        "\n",
        "      causes = dataset_df['sequence_a'].tolist()\n",
        "      effects = dataset_df['sequence_b'].tolist()\n",
        "\n",
        "      forward_sents = []\n",
        "      reverse_sents = []\n",
        "\n",
        "      for cause, effect in zip(causes, effects):\n",
        "        forward_sents.append(cause + ' may cause ' + effect)\n",
        "        reverse_sents.append(effect + ' may cause ' + cause)\n",
        "\n",
        "      forward_sents_embds = np.asarray(embedder.encode(forward_sents), dtype='float32')\n",
        "      reverse_sents_embds = np.asarray(embedder.encode(reverse_sents), dtype='float32')\n",
        "\n",
        "      bert_sim_scores = get_bert_sim_scores(faiss_index, forward_sents_embds, corpus_embeddings, TOP_N)\n",
        "      rvrs_scores = get_bert_sim_scores(faiss_index, reverse_sents_embds, corpus_embeddings, TOP_N)\n",
        "      bert_c_scores = get_c_scores(bert_sim_scores, rvrs_scores)\n",
        "      preds = get_labels(bert_sim_scores, bert_c_scores, threshold_1, threshold_2)\n",
        "      golds = [1 if label == 'causal' else 0 for label in dataset_df['label'].tolist()]\n",
        "      \n",
        "      print('{}_{}, {}, {}, {}, {}'.format(threshold_1, threshold_2, \n",
        "                                        accuracy_score(golds, preds), \n",
        "                                        precision_score(golds, preds), \n",
        "                                        recall_score(golds, preds), \n",
        "                                        f1_score(golds, preds)))\n",
        "\n"
      ],
      "execution_count": 0,
      "outputs": []
    },
    {
      "cell_type": "code",
      "metadata": {
        "id": "bPRNgv3soND4",
        "colab_type": "code",
        "outputId": "7f192b9c-8b6c-49d8-ed60-4010b2655a5b",
        "colab": {
          "base_uri": "https://localhost:8080/",
          "height": 297
        }
      },
      "source": [
        "def display_threshold_section_linechart(data, output_file):\n",
        "    x_axis = data['x_axis']\n",
        "    y_axis = data['y_axis']\n",
        "\n",
        "    plt.clf()\n",
        "    plt.plot(x_axis, y_axis[0], '-*', linewidth=1, alpha=0.6, label='Accuracy')\n",
        "    plt.plot(x_axis, y_axis[1], '-D', linewidth=1, alpha=0.9, label='Precision')\n",
        "    plt.plot(x_axis, y_axis[2], '->', linewidth=1, alpha=0.9, label='Recall')\n",
        "    plt.plot(x_axis, y_axis[3], '-<', linewidth=1, alpha=0.9, label='F1-score')\n",
        "    \n",
        "    plt.xticks(rotation=90)\n",
        "    plt.xlabel('Threshold1_Threshold2')\n",
        "    plt.ylabel('Scores')\n",
        "    plt.legend(loc='lower left')\n",
        "    plt.tight_layout()\n",
        "    plt.savefig(output_file)\n",
        "\n",
        "data = {'y_axis':[[0.5000, 0.5000, 0.5000, 0.4998, 0.5000, 0.5000, 0.5000, 0.5000, 0.4998, 0.5000, 0.5013, 0.5013, 0.5013, 0.5011, 0.5000, 0.5066, 0.5066, 0.5066, 0.5066, 0.5000], \n",
        "                  [0.5000, 0.5000, 0.5000, 0.4999, 0.0000, 0.5000, 0.5000, 0.5000, 0.4999, 0.0000, 0.5007, 0.5007, 0.5007, 0.5006, 0.0000, 0.8897, 0.8897, 0.8897, 0.8897, 0.0000],\n",
        "                  [1.0000, 1.0000, 1.0000, 0.9988, 0.0000, 1.0000, 1.0000, 1.0000, 0.9988, 0.0000, 0.9982, 0.9982, 0.9982, 0.9971, 0.0000, 0.0152, 0.0152, 0.0152, 0.0152, 0.0000],\n",
        "                  [0.6667, 0.6667, 0.6667, 0.6663, 0.0000, 0.6667, 0.6667, 0.6667, 0.6663, 0.0000, 0.6669, 0.6669, 0.6669, 0.6665, 0.0000, 0.0298, 0.0298, 0.0298, 0.0298, 0.0000]],\n",
        "        'x_axis': ['0.0_0.0', '0.0_0.3', '0.0_0.6', '0.0_0.9', '0.0_1.2',\t'0.3_0.0', '0.3_0.3',\t'0.3_0.6', '0.3_0.9', '0.3_1.2', '0.6_0.0', '0.6_0.3', '0.6_0.6', '0.6_0.9', '0.6_1.2', '0.9_0.0', '0.9_0.3', '0.9_0.6', '0.9_0.9', '0.9_1.2']}\n",
        "\n",
        "output_file = 'hassanzadeh_threshold_selection.pdf'\n",
        "display_threshold_section_linechart(data, output_file)"
      ],
      "execution_count": 19,
      "outputs": [
        {
          "output_type": "display_data",
          "data": {
            "image/png": "[encoded data removed]",
            "text/plain": [
              "<Figure size 432x288 with 1 Axes>"
            ]
          },
          "metadata": {
            "tags": []
          }
        }
      ]
    },
    {
      "cell_type": "code",
      "metadata": {
        "id": "S3bB3mGAuoN1",
        "colab_type": "code",
        "colab": {}
      },
      "source": [
        ""
      ],
      "execution_count": 0,
      "outputs": []
    },
    {
      "cell_type": "markdown",
      "metadata": {
        "id": "NojCDeuwkyaA",
        "colab_type": "text"
      },
      "source": [
        "#### Hassanzadeh Evaluation"
      ]
    },
    {
      "cell_type": "code",
      "metadata": {
        "id": "sMZ2IQAIVIqp",
        "colab_type": "code",
        "outputId": "de245a1e-6d97-4269-9cc5-d1f8a5b1f300",
        "colab": {
          "base_uri": "https://localhost:8080/",
          "height": 241
        }
      },
      "source": [
        "# Used for the experiments on the original threhsolds\n",
        "dataset_items = [('SemEval', sem_eval_df, (0.82, 0.62)), \n",
        "            ('NATO-SFA', nato_sfa_df, (0.94, 0.82)),\n",
        "            ('Risk models', risk_df, (0.0, 0.9)), \n",
        "            ('CE Pairs', ce_me_df, (0.91, 0.65)),\n",
        "            ('Twitter', ce_twitter_df, (0.94, 0.9))]\n",
        "\n",
        "# # Used for experimenting with common threhsolds\n",
        "# threshold_1 = 0.6  # found from threhsold selection\n",
        "# threshold_2 = 0.3  # found from threhsold selection\n",
        "# dataset_items = [('SemEval', sem_eval_df, (threshold_1, threshold_2)), \n",
        "#             ('NATO-SFA', nato_sfa_df, (threshold_1, threshold_2)),\n",
        "#             ('Risk Models', risk_df, (threshold_1, threshold_2)), \n",
        "#             ('CE Pairs', ce_me_df, (threshold_1, threshold_2)),\n",
        "#             ('Twitter', ce_twitter_df, (threshold_1, threshold_2))]\n",
        "\n",
        "print('Dataset, tp, fp, Acc, Precision, Recall, F1-score, AUC')\n",
        "for dataset_item in dataset_items:\n",
        "  dataset_name = dataset_item[0]\n",
        "  dataset_df = dataset_item[1]\n",
        "  threshold_1, threshold_2 = dataset_item[2]\n",
        "\n",
        "  causes = dataset_df['cause'].tolist()\n",
        "  effects = dataset_df['effect'].tolist()\n",
        "\n",
        "  forward_sents = []\n",
        "  reverse_sents = []\n",
        "\n",
        "  for cause, effect in zip(causes, effects):\n",
        "    forward_sents.append(cause + ' may cause ' + effect)\n",
        "    reverse_sents.append(effect + ' may cause ' + cause)\n",
        "\n",
        "  forward_sents_embds = np.asarray(embedder.encode(forward_sents), dtype='float32')\n",
        "  reverse_sents_embds = np.asarray(embedder.encode(reverse_sents), dtype='float32')\n",
        "\n",
        "  bert_sim_scores = get_bert_sim_scores(faiss_index, forward_sents_embds, corpus_embeddings, TOP_N)\n",
        "  rvrs_scores = get_bert_sim_scores(faiss_index, reverse_sents_embds, corpus_embeddings, TOP_N)\n",
        "  bert_c_scores = get_c_scores(bert_sim_scores, rvrs_scores)\n",
        "  preds = get_labels(bert_sim_scores, bert_c_scores, threshold_1, threshold_2)\n",
        "  golds = [1 if label == 'causal' else 0 for label in dataset_df['label'].tolist()]\n",
        "  \n",
        "  tn, fp, fn, tp = confusion_matrix(golds, preds).ravel() \n",
        "  print('{}, {}, {}, {:.4f}, {:.4f}, {:.4f}, {:.4f}, {:.4f}'.format(dataset_name, tp, fp,\n",
        "                                    accuracy_score(golds, preds), \n",
        "                                    precision_score(golds, preds), \n",
        "                                    recall_score(golds, preds), \n",
        "                                    f1_score(golds, preds),\n",
        "                                    roc_auc_score(golds, preds)))\n",
        "\n",
        "\n"
      ],
      "execution_count": 22,
      "outputs": [
        {
          "output_type": "stream",
          "text": [
            "Dataset, tp, fp, Acc, Precision, Recall, F1-score, AUC\n",
            "SemEval, 225, 63, 0.5936, 0.7812, 0.2601, 0.3903, 0.5936\n"
          ],
          "name": "stdout"
        },
        {
          "output_type": "stream",
          "text": [
            "/usr/local/lib/python3.6/dist-packages/sklearn/metrics/_classification.py:1272: UndefinedMetricWarning: Precision is ill-defined and being set to 0.0 due to no predicted samples. Use `zero_division` parameter to control this behavior.\n",
            "  _warn_prf(average, modifier, msg_start, len(result))\n"
          ],
          "name": "stderr"
        },
        {
          "output_type": "stream",
          "text": [
            "NATO-SFA, 0, 0, 0.5000, 0.0000, 0.0000, 0.0000, 0.5000\n",
            "Risk models, 402, 402, 0.5000, 0.5000, 1.0000, 0.6667, 0.5000\n"
          ],
          "name": "stdout"
        },
        {
          "output_type": "stream",
          "text": [
            "/usr/local/lib/python3.6/dist-packages/sklearn/metrics/_classification.py:1272: UndefinedMetricWarning: Precision is ill-defined and being set to 0.0 due to no predicted samples. Use `zero_division` parameter to control this behavior.\n",
            "  _warn_prf(average, modifier, msg_start, len(result))\n"
          ],
          "name": "stderr"
        },
        {
          "output_type": "stream",
          "text": [
            "CE_ME, 0, 0, 0.5000, 0.0000, 0.0000, 0.0000, 0.5000\n",
            "CE twitter, 0, 0, 0.4989, 0.0000, 0.0000, 0.0000, 0.5000\n"
          ],
          "name": "stdout"
        },
        {
          "output_type": "stream",
          "text": [
            "/usr/local/lib/python3.6/dist-packages/sklearn/metrics/_classification.py:1272: UndefinedMetricWarning: Precision is ill-defined and being set to 0.0 due to no predicted samples. Use `zero_division` parameter to control this behavior.\n",
            "  _warn_prf(average, modifier, msg_start, len(result))\n"
          ],
          "name": "stderr"
        }
      ]
    },
    {
      "cell_type": "markdown",
      "metadata": {
        "id": "qEgXqm6ok86U",
        "colab_type": "text"
      },
      "source": [
        "#### Extension Evaluation"
      ]
    },
    {
      "cell_type": "code",
      "metadata": {
        "id": "LesJmEUulIqa",
        "colab_type": "code",
        "colab": {}
      },
      "source": [
        "def get_labels_by_sim_diff(sim_scores, rvrs_sim_scores, threshold=0.2):\n",
        "  assert(len(sim_scores) == len(rvrs_sim_scores))\n",
        "\n",
        "  labels = []\n",
        "  for sim_score, rvrs_sim_score in zip(sim_scores, rvrs_sim_scores):\n",
        "    label = 0\n",
        "    if sim_score > rvrs_sim_score and (sim_score - rvrs_sim_score) >= threshold:\n",
        "      label = 1\n",
        "    labels.append(label)\n",
        "  \n",
        "  return labels"
      ],
      "execution_count": 0,
      "outputs": []
    },
    {
      "cell_type": "markdown",
      "metadata": {
        "id": "1g-182ea0M8J",
        "colab_type": "text"
      },
      "source": [
        "#### Learn Thresholds"
      ]
    },
    {
      "cell_type": "code",
      "metadata": {
        "id": "WsjCSQamyQrT",
        "colab_type": "code",
        "colab": {}
      },
      "source": [
        "# causal_tuples_file = '/content/gdrive/My Drive/Research Data/CausalQA/causalTuples/nyt_mar30_combo.argsC'\n",
        "\n",
        "# causes = []\n",
        "# effects = []\n",
        "\n",
        "# with open(causal_tuples_file, 'r') as rows:\n",
        "#   for index, row in enumerate(rows):\n",
        "#     splits = row.split('-->', 2)\n",
        "#     cause = re.sub('_[A-Z]+', '', splits[0]).strip().lower()\n",
        "#     effect = re.sub('_[A-Z]+', '', splits[1]).strip().lower()\n",
        "\n",
        "#     causes.append(cause)\n",
        "#     effects.append(effect)\n",
        "\n",
        "# forward_sents = []\n",
        "# reverse_sents = []\n",
        "\n",
        "# for cause, effect in zip(causes, effects):\n",
        "#   forward_sents.append(cause + ' may cause ' + effect)\n",
        "#   reverse_sents.append(effect + ' may cause ' + cause)\n",
        "\n",
        "# forward_sents_embds = np.asarray(embedder.encode(forward_sents), dtype='float32')\n",
        "# reverse_sents_embds = np.asarray(embedder.encode(reverse_sents), dtype='float32')\n",
        "\n",
        "# sim_scores = get_bert_sim_scores(faiss_index, forward_sents_embds, corpus_embeddings, TOP_N)\n",
        "# rvrs_sim_scores = get_bert_sim_scores(faiss_index, reverse_sents_embds, corpus_embeddings, TOP_N)\n",
        "# c_scores = get_c_scores(sim_scores, rvrs_sim_scores)\n",
        "\n",
        "# threshold_1 = sum(sim_scores)/len(sim_scores) # 0.8025798410851066\n",
        "# threshold_2 = sum(c_scores)/len(c_scores) # 1.0048565589436032\n",
        "\n"
      ],
      "execution_count": 0,
      "outputs": []
    },
    {
      "cell_type": "markdown",
      "metadata": {
        "id": "Fizzm5YGAi9k",
        "colab_type": "text"
      },
      "source": [
        "#### Evaluation on fixed thresholds"
      ]
    },
    {
      "cell_type": "code",
      "metadata": {
        "id": "fRVe2XRVmH71",
        "colab_type": "code",
        "outputId": "9a6f3ee3-bc1c-41eb-8fc4-10db606fc8a0",
        "colab": {
          "base_uri": "https://localhost:8080/",
          "height": 204
        }
      },
      "source": [
        "dataset_items = [('SemEval', sem_eval_df), \n",
        "            ('NATO-SFA', nato_sfa_df),\n",
        "            ('Risk Models', risk_df), \n",
        "            ('CE pairs', ce_me_df),\n",
        "            ('CE Twitter', ce_twitter_df)]\n",
        "print('Dataset, Acc, Precision, Recall, F1-score')\n",
        "for dataset_item in dataset_items:\n",
        "  dataset_name = dataset_item[0]\n",
        "  dataset_df = dataset_item[1]\n",
        "  # threshold = 0.01\n",
        "  threshold_1 = 0.8025798410851066\n",
        "  threshold_2 = 1.0048565589436032\n",
        "\n",
        "  causes = dataset_df['cause'].tolist()\n",
        "  effects = dataset_df['effect'].tolist()\n",
        "\n",
        "  forward_sents = []\n",
        "  reverse_sents = []\n",
        "\n",
        "  for cause, effect in zip(causes, effects):\n",
        "    forward_sents.append(cause + ' may cause ' + effect)\n",
        "    reverse_sents.append(effect + ' may cause ' + cause)\n",
        "\n",
        "  forward_sents_embds = np.asarray(embedder.encode(forward_sents), dtype='float32')\n",
        "  reverse_sents_embds = np.asarray(embedder.encode(reverse_sents), dtype='float32')\n",
        "\n",
        "  bert_sim_scores = get_bert_sim_scores(faiss_index, forward_sents_embds, corpus_embeddings, TOP_N)\n",
        "  bert_rvrs_sim_scores = get_bert_sim_scores(faiss_index, reverse_sents_embds, corpus_embeddings, TOP_N)  \n",
        "  bert_c_scores = get_c_scores(bert_sim_scores, bert_rvrs_sim_scores)\n",
        "  \n",
        "  # preds = get_labels_by_sim_diff(bert_sim_scores, bert_rvrs_sim_scores, threshold)\n",
        "  preds = get_labels(bert_sim_scores, bert_c_scores, threshold_1, threshold_2)\n",
        "  golds = [1 if label == 'causal' else 0 for label in dataset_df['label'].tolist()]\n",
        "  \n",
        "  print('{}, {}, {}, {}, {}\\n'.format(dataset_name, \n",
        "                                    accuracy_score(golds, preds), \n",
        "                                    precision_score(golds, preds), \n",
        "                                    recall_score(golds, preds), \n",
        "                                    f1_score(golds, preds)))\n",
        "\n",
        "\n"
      ],
      "execution_count": 0,
      "outputs": [
        {
          "output_type": "stream",
          "text": [
            "Dataset, Acc, Precision, Recall, F1-score\n",
            "SemEval, 0.6127167630057804, 0.8350515463917526, 0.2809248554913295, 0.42041522491349476\n",
            "\n",
            "NATO-SFA, 0.4745762711864407, 0.43478260869565216, 0.1694915254237288, 0.24390243902439024\n",
            "\n",
            "Risk Models, 0.503731343283582, 0.50920245398773, 0.2064676616915423, 0.2938053097345133\n",
            "\n",
            "CE pairs, 0.53125, 0.5520833333333334, 0.33125, 0.41406250000000006\n",
            "\n",
            "CE Twitter, 0.5054585152838428, 0.56, 0.06100217864923747, 0.1100196463654224\n",
            "\n"
          ],
          "name": "stdout"
        }
      ]
    }
  ]
}