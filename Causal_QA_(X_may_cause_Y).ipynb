{
  "nbformat": 4,
  "nbformat_minor": 0,
  "metadata": {
    "colab": {
      "name": "Causal QA (X may cause Y)",
      "provenance": [],
      "collapsed_sections": [],
      "toc_visible": true,
      "include_colab_link": true
    },
    "kernelspec": {
      "name": "python3",
      "display_name": "Python 3"
    },
    "accelerator": "GPU"
  },
  "cells": [
    {
      "cell_type": "markdown",
      "metadata": {
        "id": "view-in-github",
        "colab_type": "text"
      },
      "source": [
        "<a href=\"https://colab.research.google.com/github/hkayesh/causal-qa/blob/master/Causal_QA_(X_may_cause_Y).ipynb\" target=\"_parent\"><img src=\"https://colab.research.google.com/assets/colab-badge.svg\" alt=\"Open In Colab\"/></a>"
      ]
    },
    {
      "cell_type": "markdown",
      "metadata": {
        "id": "t0o0IA13c0ja",
        "colab_type": "text"
      },
      "source": [
        "### Install necessary packages"
      ]
    },
    {
      "cell_type": "code",
      "metadata": {
        "id": "LC2UWmmqcT0K",
        "colab_type": "code",
        "outputId": "eb8c7559-1ede-4a5a-8168-60cb638508f3",
        "colab": {
          "base_uri": "https://localhost:8080/",
          "height": 598
        }
      },
      "source": [
        "! pip install transformers"
      ],
      "execution_count": 0,
      "outputs": [
        {
          "output_type": "stream",
          "text": [
            "Collecting transformers\n",
            "\u001b[?25l  Downloading https://files.pythonhosted.org/packages/50/10/aeefced99c8a59d828a92cc11d213e2743212d3641c87c82d61b035a7d5c/transformers-2.3.0-py3-none-any.whl (447kB)\n",
            "\u001b[K     |████████████████████████████████| 450kB 3.4MB/s \n",
            "\u001b[?25hRequirement already satisfied: numpy in /usr/local/lib/python3.6/dist-packages (from transformers) (1.17.5)\n",
            "Requirement already satisfied: tqdm in /usr/local/lib/python3.6/dist-packages (from transformers) (4.28.1)\n",
            "Requirement already satisfied: requests in /usr/local/lib/python3.6/dist-packages (from transformers) (2.21.0)\n",
            "Collecting sacremoses\n",
            "\u001b[?25l  Downloading https://files.pythonhosted.org/packages/a6/b4/7a41d630547a4afd58143597d5a49e07bfd4c42914d8335b2a5657efc14b/sacremoses-0.0.38.tar.gz (860kB)\n",
            "\u001b[K     |████████████████████████████████| 870kB 10.8MB/s \n",
            "\u001b[?25hRequirement already satisfied: boto3 in /usr/local/lib/python3.6/dist-packages (from transformers) (1.10.47)\n",
            "Requirement already satisfied: regex!=2019.12.17 in /usr/local/lib/python3.6/dist-packages (from transformers) (2019.12.20)\n",
            "Collecting sentencepiece\n",
            "\u001b[?25l  Downloading https://files.pythonhosted.org/packages/74/f4/2d5214cbf13d06e7cb2c20d84115ca25b53ea76fa1f0ade0e3c9749de214/sentencepiece-0.1.85-cp36-cp36m-manylinux1_x86_64.whl (1.0MB)\n",
            "\u001b[K     |████████████████████████████████| 1.0MB 20.4MB/s \n",
            "\u001b[?25hRequirement already satisfied: urllib3<1.25,>=1.21.1 in /usr/local/lib/python3.6/dist-packages (from requests->transformers) (1.24.3)\n",
            "Requirement already satisfied: idna<2.9,>=2.5 in /usr/local/lib/python3.6/dist-packages (from requests->transformers) (2.8)\n",
            "Requirement already satisfied: chardet<3.1.0,>=3.0.2 in /usr/local/lib/python3.6/dist-packages (from requests->transformers) (3.0.4)\n",
            "Requirement already satisfied: certifi>=2017.4.17 in /usr/local/lib/python3.6/dist-packages (from requests->transformers) (2019.11.28)\n",
            "Requirement already satisfied: six in /usr/local/lib/python3.6/dist-packages (from sacremoses->transformers) (1.12.0)\n",
            "Requirement already satisfied: click in /usr/local/lib/python3.6/dist-packages (from sacremoses->transformers) (7.0)\n",
            "Requirement already satisfied: joblib in /usr/local/lib/python3.6/dist-packages (from sacremoses->transformers) (0.14.1)\n",
            "Requirement already satisfied: jmespath<1.0.0,>=0.7.1 in /usr/local/lib/python3.6/dist-packages (from boto3->transformers) (0.9.4)\n",
            "Requirement already satisfied: s3transfer<0.3.0,>=0.2.0 in /usr/local/lib/python3.6/dist-packages (from boto3->transformers) (0.2.1)\n",
            "Requirement already satisfied: botocore<1.14.0,>=1.13.47 in /usr/local/lib/python3.6/dist-packages (from boto3->transformers) (1.13.47)\n",
            "Requirement already satisfied: python-dateutil<3.0.0,>=2.1; python_version >= \"2.7\" in /usr/local/lib/python3.6/dist-packages (from botocore<1.14.0,>=1.13.47->boto3->transformers) (2.6.1)\n",
            "Requirement already satisfied: docutils<0.16,>=0.10 in /usr/local/lib/python3.6/dist-packages (from botocore<1.14.0,>=1.13.47->boto3->transformers) (0.15.2)\n",
            "Building wheels for collected packages: sacremoses\n",
            "  Building wheel for sacremoses (setup.py) ... \u001b[?25l\u001b[?25hdone\n",
            "  Created wheel for sacremoses: filename=sacremoses-0.0.38-cp36-none-any.whl size=884629 sha256=8a11017990cf7347df4cadebae8186a25138687dfc017045bf8629d5dbb92aec\n",
            "  Stored in directory: /root/.cache/pip/wheels/6d/ec/1a/21b8912e35e02741306f35f66c785f3afe94de754a0eaf1422\n",
            "Successfully built sacremoses\n",
            "Installing collected packages: sacremoses, sentencepiece, transformers\n",
            "Successfully installed sacremoses-0.0.38 sentencepiece-0.1.85 transformers-2.3.0\n"
          ],
          "name": "stdout"
        }
      ]
    },
    {
      "cell_type": "code",
      "metadata": {
        "id": "FE5VE5MCV2vk",
        "colab_type": "code",
        "outputId": "c88d3436-a808-4163-f400-d74b3f9b91c5",
        "colab": {
          "base_uri": "https://localhost:8080/",
          "height": 71
        }
      },
      "source": [
        "! pip install torch"
      ],
      "execution_count": 0,
      "outputs": [
        {
          "output_type": "stream",
          "text": [
            "Requirement already satisfied: torch in /usr/local/lib/python3.6/dist-packages (1.3.1)\n",
            "Requirement already satisfied: numpy in /usr/local/lib/python3.6/dist-packages (from torch) (1.17.5)\n"
          ],
          "name": "stdout"
        }
      ]
    },
    {
      "cell_type": "markdown",
      "metadata": {
        "id": "fEEMbJEQc9ZO",
        "colab_type": "text"
      },
      "source": [
        "### Import packages"
      ]
    },
    {
      "cell_type": "code",
      "metadata": {
        "id": "STVgVdf3CLDb",
        "colab_type": "code",
        "outputId": "6cb1a1a3-25bf-4e48-b623-82398d108e6c",
        "colab": {
          "base_uri": "https://localhost:8080/",
          "height": 34
        }
      },
      "source": [
        "%tensorflow_version 2.x\n",
        "import tensorflow as tf\n",
        "\n",
        "import re\n",
        "import nltk\n",
        "import json\n",
        "import torch\n",
        "import warnings\n",
        "import numpy as np\n",
        "import pandas as pd \n",
        "import matplotlib.pyplot as plt\n",
        "\n",
        "from nltk.corpus import stopwords\n",
        "from nltk.tokenize import word_tokenize\n",
        "from google.colab import drive \n",
        "from torch.utils.data import TensorDataset, DataLoader, RandomSampler, SequentialSampler\n",
        "from transformers import BertForSequenceClassification, BertTokenizer, BertForNextSentencePrediction\n",
        "from transformers import RobertaForSequenceClassification, RobertaTokenizer\n",
        "from transformers import DistilBertForSequenceClassification, DistilBertTokenizer\n",
        "from transformers import CamembertForSequenceClassification, CamembertTokenizer\n",
        "from transformers import AlbertForSequenceClassification, AlbertTokenizer\n",
        "\n",
        "from smart_open import smart_open\n",
        "from gensim.summarization.textcleaner import split_sentences\n",
        "from gensim.utils import tokenize, lemmatize\n",
        "from sklearn.model_selection import train_test_split\n",
        "from transformers.optimization import AdamW\n",
        "from sklearn.metrics import precision_score, recall_score, f1_score, accuracy_score, roc_auc_score, matthews_corrcoef\n"
      ],
      "execution_count": 0,
      "outputs": [
        {
          "output_type": "stream",
          "text": [
            "TensorFlow 2.x selected.\n"
          ],
          "name": "stdout"
        }
      ]
    },
    {
      "cell_type": "code",
      "metadata": {
        "id": "MgXB9P-1odcc",
        "colab_type": "code",
        "outputId": "8690a1c5-6bed-417a-b7a4-d662f5438524",
        "colab": {
          "base_uri": "https://localhost:8080/",
          "height": 102
        }
      },
      "source": [
        "nltk.download('stopwords')\n",
        "nltk.download('punkt')"
      ],
      "execution_count": 0,
      "outputs": [
        {
          "output_type": "stream",
          "text": [
            "[nltk_data] Downloading package stopwords to /root/nltk_data...\n",
            "[nltk_data]   Unzipping corpora/stopwords.zip.\n",
            "[nltk_data] Downloading package punkt to /root/nltk_data...\n",
            "[nltk_data]   Unzipping tokenizers/punkt.zip.\n"
          ],
          "name": "stdout"
        },
        {
          "output_type": "execute_result",
          "data": {
            "text/plain": [
              "True"
            ]
          },
          "metadata": {
            "tags": []
          },
          "execution_count": 4
        }
      ]
    },
    {
      "cell_type": "code",
      "metadata": {
        "id": "uAFmarfJn65u",
        "colab_type": "code",
        "outputId": "e940f3c8-cc6c-4686-9261-7466eb93ad7f",
        "colab": {
          "base_uri": "https://localhost:8080/",
          "height": 1000
        }
      },
      "source": [
        "# installing pattern package erquired for gensim's lemmatize() \n",
        "!pip install git+git://github.com/pattern3/pattern.git"
      ],
      "execution_count": 0,
      "outputs": [
        {
          "output_type": "stream",
          "text": [
            "Collecting git+git://github.com/pattern3/pattern.git\n",
            "  Cloning git://github.com/pattern3/pattern.git to /tmp/pip-req-build-kms_i7ex\n",
            "  Running command git clone -q git://github.com/pattern3/pattern.git /tmp/pip-req-build-kms_i7ex\n",
            "Requirement already satisfied: beautifulsoup4 in /usr/local/lib/python3.6/dist-packages (from pattern==2.6) (4.6.3)\n",
            "Collecting cherrypy\n",
            "\u001b[?25l  Downloading https://files.pythonhosted.org/packages/0f/2c/73e16c77b20c01c277c42a1b4ee29ebadae2b18104570b920cadc3e51413/CherryPy-18.5.0-py2.py3-none-any.whl (418kB)\n",
            "\u001b[K     |████████████████████████████████| 419kB 3.4MB/s \n",
            "\u001b[?25hCollecting docx\n",
            "\u001b[?25l  Downloading https://files.pythonhosted.org/packages/4a/8e/5a01644697b03016de339ef444cfff28367f92984dc74eddaab1ed60eada/docx-0.2.4.tar.gz (54kB)\n",
            "\u001b[K     |████████████████████████████████| 61kB 10.0MB/s \n",
            "\u001b[?25hCollecting feedparser\n",
            "\u001b[?25l  Downloading https://files.pythonhosted.org/packages/91/d8/7d37fec71ff7c9dbcdd80d2b48bcdd86d6af502156fc93846fb0102cb2c4/feedparser-5.2.1.tar.bz2 (192kB)\n",
            "\u001b[K     |████████████████████████████████| 194kB 56.0MB/s \n",
            "\u001b[?25hCollecting pdfminer3k\n",
            "\u001b[?25l  Downloading https://files.pythonhosted.org/packages/8c/87/cee0aa24f95c287020df7e3936cb51d32b34b05b430759bac15f89ea5ac2/pdfminer3k-1.3.1.tar.gz (4.1MB)\n",
            "\u001b[K     |████████████████████████████████| 4.1MB 33.4MB/s \n",
            "\u001b[?25hCollecting simplejson\n",
            "\u001b[?25l  Downloading https://files.pythonhosted.org/packages/98/87/a7b98aa9256c8843f92878966dc3d8d914c14aad97e2c5ce4798d5743e07/simplejson-3.17.0.tar.gz (83kB)\n",
            "\u001b[K     |████████████████████████████████| 92kB 13.8MB/s \n",
            "\u001b[?25hCollecting portend>=2.1.1\n",
            "  Downloading https://files.pythonhosted.org/packages/d7/79/eee70a512bffe5ceb5008f8e3326581948f50ca393c3bcb4d557e4818bd1/portend-2.6-py2.py3-none-any.whl\n",
            "Collecting jaraco.collections\n",
            "  Downloading https://files.pythonhosted.org/packages/fe/06/a89652069f0a13a33701714c0c8e0cc8656bf6d21b7c6b85fde86cf06ff6/jaraco.collections-3.0.0-py2.py3-none-any.whl\n",
            "Collecting cheroot>=8.2.1\n",
            "\u001b[?25l  Downloading https://files.pythonhosted.org/packages/bf/be/51b1517c6dbf3851d44b36ff08a6e1012464149f89f74c46b29d2f76545e/cheroot-8.2.1-py2.py3-none-any.whl (79kB)\n",
            "\u001b[K     |████████████████████████████████| 81kB 13.0MB/s \n",
            "\u001b[?25hRequirement already satisfied: more-itertools in /usr/local/lib/python3.6/dist-packages (from cherrypy->pattern==2.6) (8.0.2)\n",
            "Collecting zc.lockfile\n",
            "  Downloading https://files.pythonhosted.org/packages/6c/2a/268389776288f0f26c7272c70c36c96dcc0bdb88ab6216ea18e19df1fadd/zc.lockfile-2.0-py2.py3-none-any.whl\n",
            "Requirement already satisfied: lxml in /usr/local/lib/python3.6/dist-packages (from docx->pattern==2.6) (4.2.6)\n",
            "Requirement already satisfied: Pillow>=2.0 in /usr/local/lib/python3.6/dist-packages (from docx->pattern==2.6) (6.2.2)\n",
            "Requirement already satisfied: pytest>=2.0 in /usr/local/lib/python3.6/dist-packages (from pdfminer3k->pattern==2.6) (3.6.4)\n",
            "Collecting ply>=3.4\n",
            "\u001b[?25l  Downloading https://files.pythonhosted.org/packages/a3/58/35da89ee790598a0700ea49b2a66594140f44dec458c07e8e3d4979137fc/ply-3.11-py2.py3-none-any.whl (49kB)\n",
            "\u001b[K     |████████████████████████████████| 51kB 9.1MB/s \n",
            "\u001b[?25hCollecting tempora>=1.8\n",
            "  Downloading https://files.pythonhosted.org/packages/8c/e9/893b8f136a1a7417a791a8a4f8b599c423749e4125e0ac89457908344c8f/tempora-2.1.0-py2.py3-none-any.whl\n",
            "Collecting jaraco.text\n",
            "  Downloading https://files.pythonhosted.org/packages/50/cd/6eda44738065e844bed8fae60a229b6c46f42d0ba8d48205e9fb57e254cd/jaraco.text-3.2.0-py2.py3-none-any.whl\n",
            "Collecting jaraco.classes\n",
            "  Downloading https://files.pythonhosted.org/packages/68/ce/8f43aa0d0f18120e687ae0192fe3168630040841a3e87bed93c5fe024dbe/jaraco.classes-3.1.0-py2.py3-none-any.whl\n",
            "Requirement already satisfied: six>=1.7.0 in /tensorflow-2.1.0/python3.6 (from jaraco.collections->cherrypy->pattern==2.6) (1.13.0)\n",
            "Collecting jaraco.functools\n",
            "  Downloading https://files.pythonhosted.org/packages/ba/7a/ae51d7605dc471d29345c4ef1e5c0894f392b14beaf813cd7b43ec1ee1b6/jaraco.functools-3.0.0-py2.py3-none-any.whl\n",
            "Requirement already satisfied: setuptools in /tensorflow-2.1.0/python3.6 (from zc.lockfile->cherrypy->pattern==2.6) (45.0.0)\n",
            "Requirement already satisfied: pluggy<0.8,>=0.5 in /usr/local/lib/python3.6/dist-packages (from pytest>=2.0->pdfminer3k->pattern==2.6) (0.7.1)\n",
            "Requirement already satisfied: attrs>=17.4.0 in /usr/local/lib/python3.6/dist-packages (from pytest>=2.0->pdfminer3k->pattern==2.6) (19.3.0)\n",
            "Requirement already satisfied: py>=1.5.0 in /usr/local/lib/python3.6/dist-packages (from pytest>=2.0->pdfminer3k->pattern==2.6) (1.8.1)\n",
            "Requirement already satisfied: atomicwrites>=1.0 in /usr/local/lib/python3.6/dist-packages (from pytest>=2.0->pdfminer3k->pattern==2.6) (1.3.0)\n",
            "Requirement already satisfied: pytz in /usr/local/lib/python3.6/dist-packages (from tempora>=1.8->portend>=2.1.1->cherrypy->pattern==2.6) (2018.9)\n",
            "Collecting importlib-resources; python_version < \"3.7\"\n",
            "  Downloading https://files.pythonhosted.org/packages/2f/f7/b4aa02cdd3ee7ebba375969d77c00826aa15c5db84247d23c89522dccbfa/importlib_resources-1.0.2-py2.py3-none-any.whl\n",
            "Building wheels for collected packages: pattern, docx, feedparser, pdfminer3k, simplejson\n",
            "  Building wheel for pattern (setup.py) ... \u001b[?25l\u001b[?25hdone\n",
            "  Created wheel for pattern: filename=pattern-2.6-py2.py3-none-any.whl size=18553736 sha256=07794e236d89f530ed9f124940cd67796d84c2fe04072687303c816425307ffb\n",
            "  Stored in directory: /tmp/pip-ephem-wheel-cache-cvys4gc1/wheels/42/86/32/4c2c2365f5f4247ff44ae48bb2290f4fb024b2d2a48bf52a32\n",
            "  Building wheel for docx (setup.py) ... \u001b[?25l\u001b[?25hdone\n",
            "  Created wheel for docx: filename=docx-0.2.4-cp36-none-any.whl size=53926 sha256=c72a8387d50dcc969a0375f9af0d4197df4700cee4996ff1418dca975581feab\n",
            "  Stored in directory: /root/.cache/pip/wheels/cc/8d/09/563edfd874a35c0c7ed129b6c4fa890efa4c26458bdec6ffc1\n",
            "  Building wheel for feedparser (setup.py) ... \u001b[?25l\u001b[?25hdone\n",
            "  Created wheel for feedparser: filename=feedparser-5.2.1-cp36-none-any.whl size=44940 sha256=6a314deae07395eeae735d3fbc53189623133fcdff5e860c3050b44672e0c030\n",
            "  Stored in directory: /root/.cache/pip/wheels/8c/69/b7/f52763c41c5471df57703a0ef718a32a5e81ee35dcf6d4f97f\n",
            "  Building wheel for pdfminer3k (setup.py) ... \u001b[?25l\u001b[?25hdone\n",
            "  Created wheel for pdfminer3k: filename=pdfminer3k-1.3.1-cp36-none-any.whl size=105356 sha256=4b40eda43bfc0d6b6c43b99891fcb6499491ce14f9cb81791df5abbdfce21001\n",
            "  Stored in directory: /root/.cache/pip/wheels/ca/4f/a7/cb601b4fb257d2321ac668b7c6e269176780bd0283eda855d2\n",
            "  Building wheel for simplejson (setup.py) ... \u001b[?25l\u001b[?25hdone\n",
            "  Created wheel for simplejson: filename=simplejson-3.17.0-cp36-cp36m-linux_x86_64.whl size=114207 sha256=0a8e9ea13a7402b132b81b55f2090f96a840b21c39d710dd67c36f55c6036b06\n",
            "  Stored in directory: /root/.cache/pip/wheels/86/c0/83/dcd0339abb2640544bb8e0938aab2d069cef55e5647ce6e097\n",
            "Successfully built pattern docx feedparser pdfminer3k simplejson\n",
            "Installing collected packages: jaraco.functools, tempora, portend, importlib-resources, jaraco.text, jaraco.classes, jaraco.collections, cheroot, zc.lockfile, cherrypy, docx, feedparser, ply, pdfminer3k, simplejson, pattern\n",
            "Successfully installed cheroot-8.2.1 cherrypy-18.5.0 docx-0.2.4 feedparser-5.2.1 importlib-resources-1.0.2 jaraco.classes-3.1.0 jaraco.collections-3.0.0 jaraco.functools-3.0.0 jaraco.text-3.2.0 pattern-2.6 pdfminer3k-1.3.1 ply-3.11 portend-2.6 simplejson-3.17.0 tempora-2.1.0 zc.lockfile-2.0\n"
          ],
          "name": "stdout"
        }
      ]
    },
    {
      "cell_type": "markdown",
      "metadata": {
        "id": "MusFVW8ddFFk",
        "colab_type": "text"
      },
      "source": [
        "### Mount Google Drive \n",
        "(from shamolbit@gmail.com)"
      ]
    },
    {
      "cell_type": "code",
      "metadata": {
        "id": "Xma8G1nZEo5T",
        "colab_type": "code",
        "outputId": "9acfa923-67bb-42e2-81a0-61e398e6e611",
        "colab": {
          "base_uri": "https://localhost:8080/",
          "height": 122
        }
      },
      "source": [
        "drive.mount('/content/gdrive')"
      ],
      "execution_count": 0,
      "outputs": [
        {
          "output_type": "stream",
          "text": [
            "Go to this URL in a browser: https://accounts.google.com/o/oauth2/auth?client_id=947318989803-6bn6qk8qdgf4n4g3pfee6491hc0brc4i.apps.googleusercontent.com&redirect_uri=urn%3aietf%3awg%3aoauth%3a2.0%3aoob&response_type=code&scope=email%20https%3a%2f%2fwww.googleapis.com%2fauth%2fdocs.test%20https%3a%2f%2fwww.googleapis.com%2fauth%2fdrive%20https%3a%2f%2fwww.googleapis.com%2fauth%2fdrive.photos.readonly%20https%3a%2f%2fwww.googleapis.com%2fauth%2fpeopleapi.readonly\n",
            "\n",
            "Enter your authorization code:\n",
            "··········\n",
            "Mounted at /content/gdrive\n"
          ],
          "name": "stdout"
        }
      ]
    },
    {
      "cell_type": "markdown",
      "metadata": {
        "id": "jW0VkR-zOM6q",
        "colab_type": "text"
      },
      "source": [
        "### Define Constant Values"
      ]
    },
    {
      "cell_type": "code",
      "metadata": {
        "id": "rSeI1kwzNJr7",
        "colab_type": "code",
        "colab": {}
      },
      "source": [
        "RANDOM_SEED = 1\n",
        "BATCH_SIZE = 32\n",
        "MAX_SEQ_LEN = 128\n",
        "NUM_EPOCHS = 2\n",
        "DATASET_DIR_PATH = 'gdrive/My Drive/Research Data/CausalQA/datasets/'\n",
        "NEWS_ARTICLES_FILE_PATH = 'gdrive/My Drive/Research Data/CausalQA/causal_pairs_1M_articles.csv'\n",
        "NOT_CAUSAL_SENTS_FILE_PATH = 'gdrive/My Drive/Research Data/CausalQA/not_causal_pairs_1M_sents.csv'\n",
        "NUM_CAUSAL_SENTENCES = 100000"
      ],
      "execution_count": 0,
      "outputs": []
    },
    {
      "cell_type": "markdown",
      "metadata": {
        "id": "fgi5oO9ofZbE",
        "colab_type": "text"
      },
      "source": [
        "#### Set random seeds for reproducibility "
      ]
    },
    {
      "cell_type": "code",
      "metadata": {
        "id": "OO7ldT5rexMq",
        "colab_type": "code",
        "outputId": "5e3df600-7c03-49b3-c548-322a34c2e843",
        "colab": {
          "base_uri": "https://localhost:8080/",
          "height": 34
        }
      },
      "source": [
        "torch.manual_seed(RANDOM_SEED)"
      ],
      "execution_count": 0,
      "outputs": [
        {
          "output_type": "execute_result",
          "data": {
            "text/plain": [
              "<torch._C.Generator at 0x7fe656271070>"
            ]
          },
          "metadata": {
            "tags": []
          },
          "execution_count": 8
        }
      ]
    },
    {
      "cell_type": "markdown",
      "metadata": {
        "id": "334u0KG9PU5o",
        "colab_type": "text"
      },
      "source": [
        "### Load Pretraiend model and tokenizer"
      ]
    },
    {
      "cell_type": "code",
      "metadata": {
        "id": "lDGVbX_jfTIa",
        "colab_type": "code",
        "colab": {}
      },
      "source": [
        "model = BertForSequenceClassification.from_pretrained('bert-base-uncased')\n",
        "tokenizer = BertTokenizer.from_pretrained('bert-base-uncased')\n",
        "\n",
        "# model = RobertaForSequenceClassification.from_pretrained(\"roberta-base\")\n",
        "# tokenizer = RobertaTokenizer.from_pretrained(\"roberta-base\")\n",
        "\n",
        "# model = DistilBertForSequenceClassification.from_pretrained('distilbert-base-uncased')\n",
        "# tokenizer = DistilBertTokenizer.from_pretrained('distilbert-base-uncased')\n",
        "\n",
        "# model = AlbertForSequenceClassification.from_pretrained('albert-base-v2')\n",
        "# tokenizer = AlbertTokenizer.from_pretrained('albert-base-v2')\n"
      ],
      "execution_count": 0,
      "outputs": []
    },
    {
      "cell_type": "markdown",
      "metadata": {
        "id": "uuUvRC48Onaf",
        "colab_type": "text"
      },
      "source": [
        "### Load Training Data"
      ]
    },
    {
      "cell_type": "code",
      "metadata": {
        "id": "7wus76AWZ5RO",
        "colab_type": "code",
        "colab": {}
      },
      "source": [
        "# import re\n",
        "# causal_tuples_file = 'gdrive/My Drive/Research Data/CausalQA/causalTuples/nyt_mar30_combo.argsC'\n",
        "\n",
        "# simple_wiki_causal_tuples = []\n",
        "# simple_wiki_not_causal_tuples = []\n",
        "\n",
        "# with open(causal_tuples_file, 'r') as rows:\n",
        "#   for index, row in enumerate(rows):\n",
        "#     splits = row.split('-->', 2)\n",
        "#     cause_phrase = re.sub('_[A-Z]+', '', splits[0]).strip().lower()\n",
        "#     effect_phrase = re.sub('_[A-Z]+', '', splits[1]).strip().lower()\n",
        "\n",
        "#     simple_wiki_causal_tuples.append((cause_phrase, effect_phrase))\n",
        "#     simple_wiki_not_causal_tuples.append((effect_phrase, cause_phrase)) \n",
        "\n",
        "# simple_wiki_causal_df = pd.DataFrame(simple_wiki_causal_tuples[:NUM_CAUSAL_SENTENCES], columns=['sequence_a', 'sequence_b'])\n",
        "# simple_wiki_causal_df['label'] = 'causal'\n",
        "\n",
        "# train_dataset_causal_df = simple_wiki_causal_df\n",
        "\n",
        "# simple_wiki_not_causal_df = pd.DataFrame(simple_wiki_not_causal_tuples[:NUM_CAUSAL_SENTENCES], columns=['sequence_a', 'sequence_b'])\n",
        "# simple_wiki_not_causal_df['label'] = 'not_causal'\n",
        "\n",
        "# train_dataset = pd.concat([simple_wiki_causal_df, simple_wiki_not_causal_df])\n",
        "\n",
        "\n",
        "# print(train_dataset.shape)\n",
        "# train_dataset.head()"
      ],
      "execution_count": 0,
      "outputs": []
    },
    {
      "cell_type": "code",
      "metadata": {
        "id": "a4z3_m450BeS",
        "colab_type": "code",
        "outputId": "b14c8832-f182-44ea-a2a5-07dbab4687e0",
        "colab": {
          "base_uri": "https://localhost:8080/",
          "height": 238
        }
      },
      "source": [
        "# 1M news articles dataset\n",
        "\n",
        "causal_pairs_df = pd.read_csv(NEWS_ARTICLES_FILE_PATH, nrows=NUM_CAUSAL_SENTENCES, lineterminator='\\n', error_bad_lines=False)\n",
        "print(causal_pairs_df.shape)\n",
        "\n",
        "train_dataset_causal_df = causal_pairs_df[['sequence_a', 'sequence_b']]\n",
        "train_dataset_causal_df['label'] = 'causal'\n",
        "train_dataset_causal_df.head()\n",
        "train_dataset_causal_df.shape\n",
        "\n",
        "not_causal_df = pd.read_csv(NOT_CAUSAL_SENTS_FILE_PATH, nrows=NUM_CAUSAL_SENTENCES, lineterminator='\\n', error_bad_lines=False)\n",
        "train_dataset_not_causal_df = not_causal_df[['sequence_a', 'sequence_b']]\n",
        "train_dataset_not_causal_df['label'] = 'not_causal'\n",
        "\n",
        "train_dataset = pd.concat([train_dataset_causal_df, train_dataset_not_causal_df])\n",
        "print(train_dataset.shape)\n",
        "train_dataset.head()"
      ],
      "execution_count": 0,
      "outputs": [
        {
          "output_type": "stream",
          "text": [
            "(100000, 3)\n",
            "(200000, 3)\n"
          ],
          "name": "stdout"
        },
        {
          "output_type": "execute_result",
          "data": {
            "text/html": [
              "<div>\n",
              "<style scoped>\n",
              "    .dataframe tbody tr th:only-of-type {\n",
              "        vertical-align: middle;\n",
              "    }\n",
              "\n",
              "    .dataframe tbody tr th {\n",
              "        vertical-align: top;\n",
              "    }\n",
              "\n",
              "    .dataframe thead th {\n",
              "        text-align: right;\n",
              "    }\n",
              "</style>\n",
              "<table border=\"1\" class=\"dataframe\">\n",
              "  <thead>\n",
              "    <tr style=\"text-align: right;\">\n",
              "      <th></th>\n",
              "      <th>sequence_a</th>\n",
              "      <th>sequence_b</th>\n",
              "      <th>label</th>\n",
              "    </tr>\n",
              "  </thead>\n",
              "  <tbody>\n",
              "    <tr>\n",
              "      <th>0</th>\n",
              "      <td>its central location and its proximity to the ...</td>\n",
              "      <td>the postal order was chosen</td>\n",
              "      <td>causal</td>\n",
              "    </tr>\n",
              "    <tr>\n",
              "      <th>1</th>\n",
              "      <td>you were a basketball fan who was born in the 80s</td>\n",
              "      <td>you were lucky enough to witness the beauty th...</td>\n",
              "      <td>causal</td>\n",
              "    </tr>\n",
              "    <tr>\n",
              "      <th>2</th>\n",
              "      <td>words of death spoken over them</td>\n",
              "      <td>individual dreams and visions have been aborted</td>\n",
              "      <td>causal</td>\n",
              "    </tr>\n",
              "    <tr>\n",
              "      <th>3</th>\n",
              "      <td>poisonous words</td>\n",
              "      <td>homes and marriages have been destroyed</td>\n",
              "      <td>causal</td>\n",
              "    </tr>\n",
              "    <tr>\n",
              "      <th>4</th>\n",
              "      <td>words of envy and jealousy</td>\n",
              "      <td>companies and businesses have fallen</td>\n",
              "      <td>causal</td>\n",
              "    </tr>\n",
              "  </tbody>\n",
              "</table>\n",
              "</div>"
            ],
            "text/plain": [
              "                                          sequence_a  ...   label\n",
              "0  its central location and its proximity to the ...  ...  causal\n",
              "1  you were a basketball fan who was born in the 80s  ...  causal\n",
              "2                    words of death spoken over them  ...  causal\n",
              "3                                    poisonous words  ...  causal\n",
              "4                         words of envy and jealousy  ...  causal\n",
              "\n",
              "[5 rows x 3 columns]"
            ]
          },
          "metadata": {
            "tags": []
          },
          "execution_count": 11
        }
      ]
    },
    {
      "cell_type": "markdown",
      "metadata": {
        "id": "kxLMyQI2kogh",
        "colab_type": "text"
      },
      "source": [
        "### Show data statistics"
      ]
    },
    {
      "cell_type": "code",
      "metadata": {
        "id": "Iv6TnvklLXNu",
        "colab_type": "code",
        "outputId": "403770bf-21f5-4035-e20c-1fe7f7f166c0",
        "colab": {
          "base_uri": "https://localhost:8080/",
          "height": 382
        }
      },
      "source": [
        "def get_data_stats(df):\n",
        "  data_stats = []\n",
        "  data_stats.append(('Number of pairs', df.shape[0]))\n",
        "\n",
        "  vocabulary = []\n",
        "  phrase_sizes = []\n",
        "  for seq_a, seq_b in zip(df['sequence_a'], df['sequence_b']):\n",
        "    seq_a_tokens = word_tokenize(seq_a)\n",
        "    seq_b_tokens = word_tokenize(seq_b)\n",
        "\n",
        "    vocabulary.extend(seq_a_tokens + seq_b_tokens)\n",
        "    phrase_sizes.extend([len(seq_a_tokens), len(seq_b_tokens)])\n",
        "  \n",
        "  vocabulary = list(set(vocabulary))\n",
        "  data_stats.append(('Vocabulary size', len(vocabulary)))\n",
        "  data_stats.append(('Longest phrase size', max(phrase_sizes)))\n",
        "  data_stats.append(('Shortest phrase size', min(phrase_sizes)))\n",
        "  data_stats.append(('Average phrase size', sum(phrase_sizes)/len(phrase_sizes)))\n",
        "\n",
        "\n",
        "  return data_stats \n",
        "\n",
        "def display_bar_chart(keys, values, out_file = None):\n",
        "    y_pos = np.arange(len(keys))\n",
        "\n",
        "    plt.bar(y_pos, values, align='center', alpha=0.5)\n",
        "    plt.xticks(y_pos, keys, rotation=90)\n",
        "    plt.ylabel('Counts')\n",
        "    plt.tight_layout()\n",
        "    if out_file is None:\n",
        "      plt.show()\n",
        "    else:\n",
        "      plt.savefig(out_file)\n",
        "\n",
        "def get_cue_words_frequencies(causal_pairs_df):\n",
        "  sentences = causal_pairs_df['sentence']\n",
        "  causal_cue_words = ['caused by', 'result from', 'resulting from', 'results from', 'results from',\n",
        "                    'because of', 'because', ', inasmuch as', 'due to', 'in consequence of',\n",
        "                    'owing to', 'as a result of', 'as a consequence of', 'lead to', 'leads to', 'led to',\n",
        "                    'leading to', 'give rise to', 'gave rise to', 'given rise to', 'giving rise to', 'induce',\n",
        "                    'inducing', 'induces', 'induced', 'cause', 'causing', 'causes', 'caused', 'bring on',\n",
        "                    'brought on', 'bringing on', 'brings on', 'thus', 'therefore', 'and hence',\n",
        "                    'consequently', 'and consequently', 'for this reason alone,', 'hence', 'if',\n",
        "                    'in consequence of', 'owing to', 'the effect of', 'the reason of', 'the reason for']\n",
        "\n",
        "  cue_ferquencies = []\n",
        "\n",
        "  for sentence in sentences:\n",
        "    matches = re.findall(r'(' + '|'.join(causal_cue_words) +r')', sentence)\n",
        "    cue_ferquencies.append(matches)\n",
        "\n",
        "  value_counts = pd.DataFrame(cue_ferquencies)[0].value_counts().to_dict()\n",
        "\n",
        "  return value_counts\n",
        "\n",
        "# Display cue word frequencies \n",
        "cue_word_frequencies = get_cue_words_frequencies(causal_pairs_df)\n",
        "words = list(cue_word_frequencies.keys())\n",
        "frequencies = list(cue_word_frequencies.values())\n",
        "out_file = 'cue_word_frequencies.pdf'\n",
        "display_bar_chart(words[:15], frequencies[:15], out_file)\n",
        "\n",
        "# display data statistics\n",
        "stats = get_data_stats(train_dataset_causal_df)\n",
        "stats = get_data_stats(train_dataset_not_causal_df)\n",
        "\n",
        "for key, value in stats:\n",
        "  print(\"{}, {}\".format(key, value))\n",
        "\n"
      ],
      "execution_count": 0,
      "outputs": [
        {
          "output_type": "stream",
          "text": [
            "Number of pairs, 100000\n",
            "Vocabulary size, 63471\n",
            "Longest phrase size, 189\n",
            "Shortest phrase size, 2\n",
            "Average phrase size, 9.257625\n"
          ],
          "name": "stdout"
        },
        {
          "output_type": "display_data",
          "data": {
            "image/png": "[encoded data removed]",
            "text/plain": [
              "<Figure size 432x288 with 1 Axes>"
            ]
          },
          "metadata": {
            "tags": []
          }
        }
      ]
    },
    {
      "cell_type": "markdown",
      "metadata": {
        "id": "TAc4_f9aPiAK",
        "colab_type": "text"
      },
      "source": [
        "#### Prepare training dataset"
      ]
    },
    {
      "cell_type": "code",
      "metadata": {
        "id": "0Py-ZD9uRWVW",
        "colab_type": "code",
        "colab": {}
      },
      "source": [
        "setences = list(map(lambda x, y: x + ' may cause ' + y, train_dataset['sequence_a'].tolist(), train_dataset['sequence_b'].tolist()))\n",
        "labels = [1 if label=='causal' else 0 for label in train_dataset['label'].tolist()]\n",
        "\n",
        "input_ids = []\n",
        "attention_masks = []\n",
        "\n",
        "for setence in setences:\n",
        "  encoded_data = tokenizer.encode_plus(text=setence, text_pair=None, \n",
        "                                       max_length=MAX_SEQ_LEN, pad_to_max_length=True)\n",
        "  input_ids.append(encoded_data['input_ids'])\n",
        "  attention_masks.append(encoded_data['attention_mask'])\n",
        "\n",
        "# Use train_test_split to split our data into train and validation sets for training\n",
        "train_inputs, validation_inputs, train_labels, validation_labels = train_test_split(\n",
        "    input_ids, labels, random_state=RANDOM_SEED, test_size=0.25)\n",
        "\n",
        "train_masks, validation_masks, _, _ = train_test_split(\n",
        "    attention_masks, input_ids, random_state=RANDOM_SEED, test_size=.25)\n",
        "\n",
        "# Convert all of our data into torch tensors, the required datatype for our model\n",
        "train_inputs = torch.tensor(train_inputs)\n",
        "validation_inputs = torch.tensor(validation_inputs)\n",
        "\n",
        "train_masks = torch.tensor(train_masks)\n",
        "validation_masks = torch.tensor(validation_masks)\n",
        "\n",
        "train_labels = torch.tensor(train_labels)\n",
        "validation_labels = torch.tensor(validation_labels)\n",
        "\n",
        "# Select a batch size for training. \n",
        "batch_size = BATCH_SIZE\n",
        "\n",
        "# Create an iterator of our data with torch DataLoader \n",
        "train_data = TensorDataset(train_inputs, train_masks, train_labels)\n",
        "train_sampler = RandomSampler(train_data)\n",
        "train_dataloader = DataLoader(train_data, sampler=train_sampler, batch_size=batch_size)\n",
        "\n",
        "validation_data = TensorDataset(validation_inputs, validation_masks, validation_labels)\n",
        "validation_sampler = SequentialSampler(validation_data)\n",
        "validation_dataloader = DataLoader(validation_data, sampler=validation_sampler, batch_size=batch_size)\n"
      ],
      "execution_count": 0,
      "outputs": []
    },
    {
      "cell_type": "markdown",
      "metadata": {
        "id": "ASAjpwWFPsUC",
        "colab_type": "text"
      },
      "source": [
        "### Fine-tuning model and validation\n"
      ]
    },
    {
      "cell_type": "code",
      "metadata": {
        "id": "OuCuGGNodSTM",
        "colab_type": "code",
        "outputId": "6046141b-2469-4712-f5f6-ada715cb2420",
        "colab": {
          "base_uri": "https://localhost:8080/",
          "height": 669
        }
      },
      "source": [
        "# specify GPU device\n",
        "device = torch.device(\"cuda\" if torch.cuda.is_available() else \"cpu\")\n",
        "n_gpu = torch.cuda.device_count()\n",
        "torch.cuda.get_device_name(0)\n",
        "\n",
        "\n",
        "# BERT fine-tuning parameters\n",
        "param_optimizer = list(model.named_parameters())\n",
        "no_decay = ['bias', 'gamma', 'beta']\n",
        "optimizer_grouped_parameters = [\n",
        "    {'params': [p for n, p in param_optimizer if not any(nd in n for nd in no_decay)],\n",
        "     'weight_decay_rate': 0.01},\n",
        "    {'params': [p for n, p in param_optimizer if any(nd in n for nd in no_decay)],\n",
        "     'weight_decay_rate': 0.0}\n",
        "]\n",
        "\n",
        "optimizer = AdamW(params=optimizer_grouped_parameters, lr=2e-5, weight_decay=0.01)\n",
        "\n",
        "# Function to calculate the accuracy of our predictions vs labels\n",
        "def flat_accuracy(preds, labels):\n",
        "    pred_flat = np.argmax(preds, axis=1).flatten()\n",
        "    labels_flat = labels.flatten()\n",
        "    return np.sum(pred_flat == labels_flat) / len(labels_flat)\n",
        "  \n",
        "# Store our loss and accuracy for plotting\n",
        "train_loss_set = []\n",
        "# Number of training epochs \n",
        "epochs = NUM_EPOCHS\n",
        "\n",
        "model.cuda()\n",
        "\n",
        "# BERT training loop\n",
        "for epoch in range(epochs):  \n",
        "  print('Epoch {}/{}'.format(epoch+1, epochs))\n",
        "  \n",
        "  ## TRAINING\n",
        "  \n",
        "  # Set our model to training mode\n",
        "  model.train()  \n",
        "  # Tracking variables\n",
        "  tr_loss = 0\n",
        "  nb_tr_examples, nb_tr_steps = 0, 0\n",
        "  # Train the data for one epoch\n",
        "  for step, batch in enumerate(train_dataloader):\n",
        "    # Add batch to GPU\n",
        "    batch = tuple(t.to(device) for t in batch)\n",
        "    # Unpack the inputs from our dataloader\n",
        "    b_input_ids, b_input_mask, b_labels = batch\n",
        "    # Clear out the gradients (by default they accumulate)\n",
        "    optimizer.zero_grad()\n",
        "    # Forward pass\n",
        "    loss, _ = model(input_ids = b_input_ids, attention_mask=b_input_mask, labels=b_labels)\n",
        "    train_loss_set.append(loss.item())    \n",
        "    # Backward pass\n",
        "    loss.backward()\n",
        "    # Update parameters and take a step using the computed gradient\n",
        "    optimizer.step()\n",
        "    # Update tracking variables\n",
        "    tr_loss += loss.item()\n",
        "    nb_tr_examples += b_input_ids.size(0)\n",
        "    nb_tr_steps += 1\n",
        "  print(\"Train loss: {:.4f}\".format(tr_loss/nb_tr_steps))\n",
        "       \n",
        "  ## VALIDATION\n",
        "\n",
        "  # Put model in evaluation mode\n",
        "  model.eval()\n",
        "  # Tracking variables \n",
        "  eval_loss, eval_accuracy = 0, 0\n",
        "  nb_eval_steps, nb_eval_examples = 0, 0\n",
        "  # Evaluate data for one epoch\n",
        "  for batch in validation_dataloader:\n",
        "    # Add batch to GPU\n",
        "    batch = tuple(t.to(device) for t in batch)\n",
        "    # Unpack the inputs from our dataloader\n",
        "    b_input_ids, b_input_mask, b_labels = batch\n",
        "    # Telling the model not to compute or store gradients, saving memory and speeding up validation\n",
        "    with torch.no_grad():\n",
        "      # Forward pass, calculate logit predictions\n",
        "      logits = model(b_input_ids, attention_mask=b_input_mask)    \n",
        "    # Move logits and labels to CPU\n",
        "    logits = np.array(logits[0].cpu())\n",
        "    label_ids = b_labels.to('cpu').numpy()\n",
        "    tmp_eval_accuracy = flat_accuracy(logits, label_ids)    \n",
        "    eval_accuracy += tmp_eval_accuracy\n",
        "    nb_eval_steps += 1\n",
        "  print(\"Validation Accuracy: {:.4f}\\n\".format(eval_accuracy/nb_eval_steps))\n",
        "\n",
        "# plot training performance\n",
        "plt.figure(figsize=(15,8))\n",
        "plt.title(\"Training loss\")\n",
        "plt.xlabel(\"Batch\")\n",
        "plt.ylabel(\"Loss\")\n",
        "plt.plot(train_loss_set)\n",
        "plt.show()"
      ],
      "execution_count": 0,
      "outputs": [
        {
          "output_type": "stream",
          "text": [
            "Epoch 1/2\n",
            "Train loss: 0.0911\n",
            "Validation Accuracy: 0.9842\n",
            "\n",
            "Epoch 2/2\n",
            "Train loss: 0.0296\n",
            "Validation Accuracy: 0.9860\n",
            "\n"
          ],
          "name": "stdout"
        },
        {
          "output_type": "display_data",
          "data": {
            "image/png": "[encoded data removed]",
            "text/plain": [
              "<Figure size 1080x576 with 1 Axes>"
            ]
          },
          "metadata": {
            "tags": []
          }
        }
      ]
    },
    {
      "cell_type": "markdown",
      "metadata": {
        "id": "Ab-pa4ROGLdc",
        "colab_type": "text"
      },
      "source": [
        "### Evaluate Model"
      ]
    },
    {
      "cell_type": "code",
      "metadata": {
        "id": "3eY4TiADtQlG",
        "colab_type": "code",
        "colab": {}
      },
      "source": [
        "def evaluate(model, test_inputs, test_masks, test_labels):\n",
        "  # Convert all of our data into torch tensors, the required datatype for our model\n",
        "  prediction_inputs = torch.tensor(test_inputs)\n",
        "  prediction_masks = torch.tensor(test_masks)\n",
        "  prediction_labels = torch.tensor(test_labels)\n",
        "\n",
        "  # Select a batch size for training. \n",
        "  batch_size = BATCH_SIZE\n",
        "\n",
        "  # Create an iterator of our data with torch DataLoader \n",
        "  prediction_data = TensorDataset(prediction_inputs, prediction_masks, prediction_labels)\n",
        "  prediction_sampler = SequentialSampler(prediction_data)\n",
        "  prediction_dataloader = DataLoader(prediction_data, sampler=prediction_sampler, batch_size=batch_size)\n",
        "\n",
        "  ## Prediction on test set\n",
        "  # Put model in evaluation mode\n",
        "  model.eval()\n",
        "  # Tracking variables \n",
        "  predictions , true_labels = [], []\n",
        "  # Predict \n",
        "  for batch in prediction_dataloader:\n",
        "    # Add batch to GPU\n",
        "    batch = tuple(t.to(device) for t in batch)\n",
        "    # Unpack the inputs from our dataloader\n",
        "    b_input_ids, b_input_mask, b_labels = batch\n",
        "    # Telling the model not to compute or store gradients, saving memory and speeding up prediction\n",
        "    with torch.no_grad():\n",
        "      # Forward pass, calculate logit predictions\n",
        "      logits = model(b_input_ids, attention_mask=b_input_mask)\n",
        "    # Move logits and labels to CPU\n",
        "    logits = logits[0].cpu().numpy()\n",
        "    label_ids = b_labels.to('cpu').numpy()  \n",
        "    # Store predictions and true labels\n",
        "    predictions.append(logits)\n",
        "    true_labels.append(label_ids)\n",
        "    \n",
        "  matthews_set = []\n",
        "  for i in range(len(true_labels)):\n",
        "    matthews = matthews_corrcoef(true_labels[i],\n",
        "                  np.argmax(predictions[i], axis=1).flatten())\n",
        "    matthews_set.append(matthews)\n",
        "    \n",
        "  # Flatten the predictions and true values for evaluation on the whole dataset\n",
        "  flat_predictions = [item for sublist in predictions for item in sublist]\n",
        "  flat_predictions = np.argmax(flat_predictions, axis=1).flatten()\n",
        "  flat_true_labels = [item for sublist in true_labels for item in sublist]\n",
        "\n",
        "  scores = {\n",
        "    'matthews_corrcoef_acc': matthews_corrcoef(flat_true_labels, flat_predictions),\n",
        "    'precision': precision_score(flat_true_labels, flat_predictions),\n",
        "    'recall': recall_score(flat_true_labels, flat_predictions),\n",
        "    'f1_score': f1_score(flat_true_labels, flat_predictions),\n",
        "    'accuracy': accuracy_score(flat_true_labels, flat_predictions)\n",
        "  }\n",
        "\n",
        "  return scores\n"
      ],
      "execution_count": 0,
      "outputs": []
    },
    {
      "cell_type": "code",
      "metadata": {
        "id": "BrkwRRnzHhsi",
        "colab_type": "code",
        "colab": {}
      },
      "source": [
        "semeval_file_path = DATASET_DIR_PATH + 'semeval-benchmark-v1.csv'\n",
        "risk_file_path = DATASET_DIR_PATH + 'risk-models-benchmark-v1.csv'\n",
        "nato_sfa_file_path = DATASET_DIR_PATH + 'nato-sfa-benchmark-v1.csv'\n",
        "ce_me_file_path = DATASET_DIR_PATH + 'ce-me-benchmark-v1.csv'\n",
        "ce_twitter_file_path = DATASET_DIR_PATH + 'twitter-causal-dataset.csv'"
      ],
      "execution_count": 0,
      "outputs": []
    },
    {
      "cell_type": "code",
      "metadata": {
        "id": "4kcWa-GPPXEc",
        "colab_type": "code",
        "outputId": "f13027c7-b13d-42d0-c94a-46b1484fd116",
        "colab": {
          "base_uri": "https://localhost:8080/",
          "height": 204
        }
      },
      "source": [
        "sem_eval_df = pd.read_csv(semeval_file_path, names=['cause', 'effect', 'label'], header=None)\n",
        "sem_eval_df.head()"
      ],
      "execution_count": 0,
      "outputs": [
        {
          "output_type": "execute_result",
          "data": {
            "text/html": [
              "<div>\n",
              "<style scoped>\n",
              "    .dataframe tbody tr th:only-of-type {\n",
              "        vertical-align: middle;\n",
              "    }\n",
              "\n",
              "    .dataframe tbody tr th {\n",
              "        vertical-align: top;\n",
              "    }\n",
              "\n",
              "    .dataframe thead th {\n",
              "        text-align: right;\n",
              "    }\n",
              "</style>\n",
              "<table border=\"1\" class=\"dataframe\">\n",
              "  <thead>\n",
              "    <tr style=\"text-align: right;\">\n",
              "      <th></th>\n",
              "      <th>cause</th>\n",
              "      <th>effect</th>\n",
              "      <th>label</th>\n",
              "    </tr>\n",
              "  </thead>\n",
              "  <tbody>\n",
              "    <tr>\n",
              "      <th>0</th>\n",
              "      <td>dwarf</td>\n",
              "      <td>emission</td>\n",
              "      <td>causal</td>\n",
              "    </tr>\n",
              "    <tr>\n",
              "      <th>1</th>\n",
              "      <td>disease</td>\n",
              "      <td>blindness</td>\n",
              "      <td>causal</td>\n",
              "    </tr>\n",
              "    <tr>\n",
              "      <th>2</th>\n",
              "      <td>women</td>\n",
              "      <td>accident</td>\n",
              "      <td>causal</td>\n",
              "    </tr>\n",
              "    <tr>\n",
              "      <th>3</th>\n",
              "      <td>reading</td>\n",
              "      <td>rage</td>\n",
              "      <td>causal</td>\n",
              "    </tr>\n",
              "    <tr>\n",
              "      <th>4</th>\n",
              "      <td>snowstorm</td>\n",
              "      <td>losses</td>\n",
              "      <td>causal</td>\n",
              "    </tr>\n",
              "  </tbody>\n",
              "</table>\n",
              "</div>"
            ],
            "text/plain": [
              "       cause     effect   label\n",
              "0      dwarf   emission  causal\n",
              "1    disease  blindness  causal\n",
              "2      women   accident  causal\n",
              "3    reading       rage  causal\n",
              "4  snowstorm     losses  causal"
            ]
          },
          "metadata": {
            "tags": []
          },
          "execution_count": 37
        }
      ]
    },
    {
      "cell_type": "code",
      "metadata": {
        "id": "dTN9zGfBvJSC",
        "colab_type": "code",
        "outputId": "955ba366-278d-4d08-dd28-1bd16b1ef7ad",
        "colab": {
          "base_uri": "https://localhost:8080/",
          "height": 204
        }
      },
      "source": [
        "risk_df = pd.read_csv(risk_file_path, names=['cause', 'effect', 'label'], header=None)\n",
        "risk_df['cause'] = risk_df['cause'].apply(lambda x: re.sub('\\s\\[\\d+\\]$', '', x))  # remove '[n]' from the end\n",
        "risk_df['effect'] = risk_df['effect'].apply(lambda x: re.sub('\\s\\[\\d+\\]$', '', x))  # remove '[n]' from the end\n",
        "risk_df.head()"
      ],
      "execution_count": 0,
      "outputs": [
        {
          "output_type": "execute_result",
          "data": {
            "text/html": [
              "<div>\n",
              "<style scoped>\n",
              "    .dataframe tbody tr th:only-of-type {\n",
              "        vertical-align: middle;\n",
              "    }\n",
              "\n",
              "    .dataframe tbody tr th {\n",
              "        vertical-align: top;\n",
              "    }\n",
              "\n",
              "    .dataframe thead th {\n",
              "        text-align: right;\n",
              "    }\n",
              "</style>\n",
              "<table border=\"1\" class=\"dataframe\">\n",
              "  <thead>\n",
              "    <tr style=\"text-align: right;\">\n",
              "      <th></th>\n",
              "      <th>cause</th>\n",
              "      <th>effect</th>\n",
              "      <th>label</th>\n",
              "    </tr>\n",
              "  </thead>\n",
              "  <tbody>\n",
              "    <tr>\n",
              "      <th>0</th>\n",
              "      <td>increasing profits for our clients</td>\n",
              "      <td>increasing profits for our clients [13]</td>\n",
              "      <td>causal</td>\n",
              "    </tr>\n",
              "    <tr>\n",
              "      <th>1</th>\n",
              "      <td>increased speed efficiency, and lower cost</td>\n",
              "      <td>increased speed efficiency, and lower cost [11]</td>\n",
              "      <td>causal</td>\n",
              "    </tr>\n",
              "    <tr>\n",
              "      <th>2</th>\n",
              "      <td>increasing profits for our clients</td>\n",
              "      <td>increasing profits for our clients [13]</td>\n",
              "      <td>causal</td>\n",
              "    </tr>\n",
              "    <tr>\n",
              "      <th>3</th>\n",
              "      <td>increasing profits for our clients</td>\n",
              "      <td>increasing profits for our clients [13]</td>\n",
              "      <td>causal</td>\n",
              "    </tr>\n",
              "    <tr>\n",
              "      <th>4</th>\n",
              "      <td>increased importance of bundling products</td>\n",
              "      <td>increased importance of bundling products [16]</td>\n",
              "      <td>causal</td>\n",
              "    </tr>\n",
              "  </tbody>\n",
              "</table>\n",
              "</div>"
            ],
            "text/plain": [
              "                                        cause  ...   label\n",
              "0          increasing profits for our clients  ...  causal\n",
              "1  increased speed efficiency, and lower cost  ...  causal\n",
              "2          increasing profits for our clients  ...  causal\n",
              "3          increasing profits for our clients  ...  causal\n",
              "4   increased importance of bundling products  ...  causal\n",
              "\n",
              "[5 rows x 3 columns]"
            ]
          },
          "metadata": {
            "tags": []
          },
          "execution_count": 38
        }
      ]
    },
    {
      "cell_type": "code",
      "metadata": {
        "id": "21WAp3jxvLz5",
        "colab_type": "code",
        "outputId": "bd988095-43d0-4569-cdf3-cdeed8fc32c9",
        "colab": {
          "base_uri": "https://localhost:8080/",
          "height": 204
        }
      },
      "source": [
        "\n",
        "nato_sfa_df = pd.read_csv(nato_sfa_file_path, names=['cause', 'effect', 'label'], header=None)\n",
        "nato_sfa_df.head()\n"
      ],
      "execution_count": 0,
      "outputs": [
        {
          "output_type": "execute_result",
          "data": {
            "text/html": [
              "<div>\n",
              "<style scoped>\n",
              "    .dataframe tbody tr th:only-of-type {\n",
              "        vertical-align: middle;\n",
              "    }\n",
              "\n",
              "    .dataframe tbody tr th {\n",
              "        vertical-align: top;\n",
              "    }\n",
              "\n",
              "    .dataframe thead th {\n",
              "        text-align: right;\n",
              "    }\n",
              "</style>\n",
              "<table border=\"1\" class=\"dataframe\">\n",
              "  <thead>\n",
              "    <tr style=\"text-align: right;\">\n",
              "      <th></th>\n",
              "      <th>cause</th>\n",
              "      <th>effect</th>\n",
              "      <th>label</th>\n",
              "    </tr>\n",
              "  </thead>\n",
              "  <tbody>\n",
              "    <tr>\n",
              "      <th>0</th>\n",
              "      <td>Increased global inequality</td>\n",
              "      <td>Migration</td>\n",
              "      <td>causal</td>\n",
              "    </tr>\n",
              "    <tr>\n",
              "      <th>1</th>\n",
              "      <td>Natural disasters</td>\n",
              "      <td>Unavailability of national military assets due...</td>\n",
              "      <td>causal</td>\n",
              "    </tr>\n",
              "    <tr>\n",
              "      <th>2</th>\n",
              "      <td>Increasingly connected human networks</td>\n",
              "      <td>An increasing need to understand human networks</td>\n",
              "      <td>causal</td>\n",
              "    </tr>\n",
              "    <tr>\n",
              "      <th>3</th>\n",
              "      <td>Fractured and/or polarized societies</td>\n",
              "      <td>Instability and civil war</td>\n",
              "      <td>causal</td>\n",
              "    </tr>\n",
              "    <tr>\n",
              "      <th>4</th>\n",
              "      <td>Fractured and/or polarized societies</td>\n",
              "      <td>Instability along NATO’s border causing large-...</td>\n",
              "      <td>causal</td>\n",
              "    </tr>\n",
              "  </tbody>\n",
              "</table>\n",
              "</div>"
            ],
            "text/plain": [
              "                                   cause  ...   label\n",
              "0            Increased global inequality  ...  causal\n",
              "1                      Natural disasters  ...  causal\n",
              "2  Increasingly connected human networks  ...  causal\n",
              "3   Fractured and/or polarized societies  ...  causal\n",
              "4   Fractured and/or polarized societies  ...  causal\n",
              "\n",
              "[5 rows x 3 columns]"
            ]
          },
          "metadata": {
            "tags": []
          },
          "execution_count": 39
        }
      ]
    },
    {
      "cell_type": "code",
      "metadata": {
        "id": "DOIiFQXwvOA5",
        "colab_type": "code",
        "outputId": "3c5e7bed-cc42-48bd-8c3e-ef59f4b51125",
        "colab": {
          "base_uri": "https://localhost:8080/",
          "height": 204
        }
      },
      "source": [
        "ce_me_df = pd.read_csv(ce_me_file_path, names=['cause', 'effect', 'label'], header=None)\n",
        "ce_me_df.head()"
      ],
      "execution_count": 0,
      "outputs": [
        {
          "output_type": "execute_result",
          "data": {
            "text/html": [
              "<div>\n",
              "<style scoped>\n",
              "    .dataframe tbody tr th:only-of-type {\n",
              "        vertical-align: middle;\n",
              "    }\n",
              "\n",
              "    .dataframe tbody tr th {\n",
              "        vertical-align: top;\n",
              "    }\n",
              "\n",
              "    .dataframe thead th {\n",
              "        text-align: right;\n",
              "    }\n",
              "</style>\n",
              "<table border=\"1\" class=\"dataframe\">\n",
              "  <thead>\n",
              "    <tr style=\"text-align: right;\">\n",
              "      <th></th>\n",
              "      <th>cause</th>\n",
              "      <th>effect</th>\n",
              "      <th>label</th>\n",
              "    </tr>\n",
              "  </thead>\n",
              "  <tbody>\n",
              "    <tr>\n",
              "      <th>0</th>\n",
              "      <td>A strong dollar and a low oil price</td>\n",
              "      <td>profits of multinationals have dropped by 25%</td>\n",
              "      <td>causal</td>\n",
              "    </tr>\n",
              "    <tr>\n",
              "      <th>1</th>\n",
              "      <td>country increases imports</td>\n",
              "      <td>country decreasing balance of trade</td>\n",
              "      <td>causal</td>\n",
              "    </tr>\n",
              "    <tr>\n",
              "      <th>2</th>\n",
              "      <td>plunge in the value of local currency</td>\n",
              "      <td>country decreasing foreign reserves</td>\n",
              "      <td>causal</td>\n",
              "    </tr>\n",
              "    <tr>\n",
              "      <th>3</th>\n",
              "      <td>increase in national debt</td>\n",
              "      <td>decrease in real annual economic growth</td>\n",
              "      <td>causal</td>\n",
              "    </tr>\n",
              "    <tr>\n",
              "      <th>4</th>\n",
              "      <td>increase in the demand for a currency</td>\n",
              "      <td>rise in the exchange rate</td>\n",
              "      <td>causal</td>\n",
              "    </tr>\n",
              "  </tbody>\n",
              "</table>\n",
              "</div>"
            ],
            "text/plain": [
              "                                   cause  ...   label\n",
              "0    A strong dollar and a low oil price  ...  causal\n",
              "1              country increases imports  ...  causal\n",
              "2  plunge in the value of local currency  ...  causal\n",
              "3              increase in national debt  ...  causal\n",
              "4  increase in the demand for a currency  ...  causal\n",
              "\n",
              "[5 rows x 3 columns]"
            ]
          },
          "metadata": {
            "tags": []
          },
          "execution_count": 40
        }
      ]
    },
    {
      "cell_type": "code",
      "metadata": {
        "id": "U4Tgr6uuAeB_",
        "colab_type": "code",
        "outputId": "b482f2bc-8039-457a-e56c-6cf83096c7ef",
        "colab": {
          "base_uri": "https://localhost:8080/",
          "height": 204
        }
      },
      "source": [
        "ce_twitter_df = pd.read_csv(ce_twitter_file_path)\n",
        "ce_twitter_df['label'] = ce_twitter_df['label'].apply(lambda x: 'non_causal' if x == 'not-causal' else x)\n",
        "\n",
        "ce_twitter_df.head()"
      ],
      "execution_count": 0,
      "outputs": [
        {
          "output_type": "execute_result",
          "data": {
            "text/html": [
              "<div>\n",
              "<style scoped>\n",
              "    .dataframe tbody tr th:only-of-type {\n",
              "        vertical-align: middle;\n",
              "    }\n",
              "\n",
              "    .dataframe tbody tr th {\n",
              "        vertical-align: top;\n",
              "    }\n",
              "\n",
              "    .dataframe thead th {\n",
              "        text-align: right;\n",
              "    }\n",
              "</style>\n",
              "<table border=\"1\" class=\"dataframe\">\n",
              "  <thead>\n",
              "    <tr style=\"text-align: right;\">\n",
              "      <th></th>\n",
              "      <th>cause</th>\n",
              "      <th>effect</th>\n",
              "      <th>label</th>\n",
              "    </tr>\n",
              "  </thead>\n",
              "  <tbody>\n",
              "    <tr>\n",
              "      <th>0</th>\n",
              "      <td>i ned to be front and centre</td>\n",
              "      <td>it’s al about me</td>\n",
              "      <td>non_causal</td>\n",
              "    </tr>\n",
              "    <tr>\n",
              "      <th>1</th>\n",
              "      <td>families truly suport girl-child</td>\n",
              "      <td>we can se that sky to is not the limit</td>\n",
              "      <td>causal</td>\n",
              "    </tr>\n",
              "    <tr>\n",
              "      <th>2</th>\n",
              "      <td>blinding youth with pelet guns was a #comonwea...</td>\n",
              "      <td>india would win a gold every hour</td>\n",
              "      <td>non_causal</td>\n",
              "    </tr>\n",
              "    <tr>\n",
              "      <th>3</th>\n",
              "      <td>they were so intolerant to an individuals thou...</td>\n",
              "      <td>they cant telecast #comonwealthgames2018 medal...</td>\n",
              "      <td>causal</td>\n",
              "    </tr>\n",
              "    <tr>\n",
              "      <th>4</th>\n",
              "      <td>you can't wait until then</td>\n",
              "      <td>you can watch it here:</td>\n",
              "      <td>causal</td>\n",
              "    </tr>\n",
              "  </tbody>\n",
              "</table>\n",
              "</div>"
            ],
            "text/plain": [
              "                                               cause  ...       label\n",
              "0                       i ned to be front and centre  ...  non_causal\n",
              "1                   families truly suport girl-child  ...      causal\n",
              "2  blinding youth with pelet guns was a #comonwea...  ...  non_causal\n",
              "3  they were so intolerant to an individuals thou...  ...      causal\n",
              "4                          you can't wait until then  ...      causal\n",
              "\n",
              "[5 rows x 3 columns]"
            ]
          },
          "metadata": {
            "tags": []
          },
          "execution_count": 41
        }
      ]
    },
    {
      "cell_type": "code",
      "metadata": {
        "id": "089SNvuLIzcn",
        "colab_type": "code",
        "outputId": "0a96387f-56aa-47c4-b96b-5cc6dcb834ab",
        "colab": {
          "base_uri": "https://localhost:8080/",
          "height": 119
        }
      },
      "source": [
        "\n",
        "warnings.filterwarnings(\"ignore\", category=RuntimeWarning) \n",
        "\n",
        "dataset_dfs = [sem_eval_df, nato_sfa_df, risk_df, ce_me_df, ce_twitter_df]\n",
        "dataset_names = ['SemEval', 'NATO-SFA', 'Risk Models', 'CE Pairs', 'CE Tweets']\n",
        "print('Dataset, accuracy, Precision, Recall, F1-score')\n",
        "\n",
        "for dataset_df, dataset_name in zip(dataset_dfs, dataset_names):\n",
        "  sentences = list(map(lambda x, y: x + ' may cause ' + y, dataset_df['cause'].tolist(), dataset_df['effect'].tolist()))\n",
        "  labels = [1 if label=='causal' else 0 for label in dataset_df['label'].tolist()]\n",
        "\n",
        "  input_ids = []\n",
        "  # token_type_ids = []\n",
        "  attention_masks = []\n",
        "\n",
        "  for sentence in sentences:\n",
        "    encoded_data = tokenizer.encode_plus(text=sentence, text_pair=None, max_length=MAX_SEQ_LEN, pad_to_max_length=True)\n",
        "    input_ids.append(encoded_data['input_ids'])\n",
        "    # token_type_ids.append(encoded_data['token_type_ids'])\n",
        "    attention_masks.append(encoded_data['attention_mask'])\n",
        "\n",
        "  scores = evaluate(model, input_ids, attention_masks, labels)\n",
        "  print('{}, {:.4f}, {:.4f}, {:.4f}, {:.4f}'.format(dataset_name, scores['accuracy'], scores['precision'], scores['recall'], scores['f1_score']))\n",
        "\n",
        "  # print('Classification accuracy of dataset {0} is {1:0.2%}'.format(dataset_name, scores['matthews_corrcoef_acc']))\n"
      ],
      "execution_count": 0,
      "outputs": [
        {
          "output_type": "stream",
          "text": [
            "Dataset, accuracy, Precision, Recall, F1-score\n",
            "SemEval, 0.5197, 0.5100, 0.9977, 0.6750\n",
            "NATO-SFA, 0.5000, 0.5000, 0.9492, 0.6550\n",
            "Risk Models, 0.5000, 0.5000, 1.0000, 0.6667\n",
            "CE Pairs, 0.5094, 0.5049, 0.9750, 0.6652\n",
            "CE Tweets, 0.5120, 0.5069, 0.9542, 0.6621\n"
          ],
          "name": "stdout"
        }
      ]
    },
    {
      "cell_type": "markdown",
      "metadata": {
        "id": "zAcQINe11flU",
        "colab_type": "text"
      },
      "source": [
        "### Visualization"
      ]
    },
    {
      "cell_type": "code",
      "metadata": {
        "id": "tzkjF4sA1dOW",
        "colab_type": "code",
        "colab": {}
      },
      "source": [
        "def display_linechart_epochs(data, output_file):\n",
        "    labels = {\n",
        "        'epoch_1': '1',\n",
        "        'epoch_2': '2',\n",
        "        'epoch_3': '3',\n",
        "        'epoch_4': '4',\n",
        "    }\n",
        "    # data = self.read_result_data()\n",
        "\n",
        "    # if data is None:\n",
        "    #     print(\"No data to plot\")\n",
        "    #     return\n",
        "\n",
        "    x_axis = list(labels.values())\n",
        "    # y_axis_str = [data[label]['scores'] for label in labels]\n",
        "    y_axis_str = data \n",
        "\n",
        "    plt.clf()\n",
        "    y_axis = []\n",
        "    for score_item in y_axis_str:\n",
        "        row = [float(num) for num in score_item]\n",
        "        y_axis.append(row)\n",
        "    y_axis_ar = np.array(y_axis)\n",
        "\n",
        "    plt.plot(x_axis, y_axis_ar[:, 0], '-*', linewidth=1, alpha=0.9, label='Accuracy')\n",
        "    plt.plot(x_axis, y_axis_ar[:, 1], '-D', linewidth=1, alpha=0.9, label='Precision')\n",
        "    plt.plot(x_axis, y_axis_ar[:, 2], '->', linewidth=1, alpha=0.9, label='Recall')\n",
        "    plt.plot(x_axis, y_axis_ar[:, 3], '-<', linewidth=1, alpha=0.9, label='F1-score')\n",
        "\n",
        "    plt.xlabel('Epochs')\n",
        "    plt.ylabel('Scores')\n",
        "    plt.legend()\n",
        "\n",
        "    # self.check_output_dir()\n",
        "    plt.savefig(output_file)\n",
        "\n",
        "data = [[0.5162,\t0.5082,\t0.9977,\t0.6734], \n",
        "        [0.5197,\t0.5100,\t0.9977,\t0.6750],\n",
        "        [0.5168,\t0.6124,\t0.0913,\t0.1590],\n",
        "        [0.5503,\t0.5267,\t0.9908,\t0.6878]]\n",
        "output_file = 'sen_eval_epoch.pdf'\n",
        "display_linechart_epochs(data, output_file)\n",
        "\n",
        "\n",
        "data = [[0.4576,\t0.4757,\t0.8305,\t0.6049],\n",
        "        [0.4576,\t0.4762,\t0.8475,\t0.6098],\n",
        "        [0.5339,\t0.5556,\t0.3390,\t0.4211],\n",
        "        [0.4661,\t0.4804,\t0.8305,\t0.6087]]\n",
        "output_file = 'nato_sfa_epoch.pdf'\n",
        "display_linechart_epochs(data, output_file)\n",
        "\n",
        "data = [[0.5174,\t0.5097,\t0.9129,\t0.6542],\n",
        "        [0.5149,\t0.5078,\t0.9776,\t0.6684],\n",
        "        [0.4900,\t0.4938,\t0.7960,\t0.6095],\n",
        "        [0.5286,\t0.5150,\t0.9801,\t0.6752]]\n",
        "output_file = 'risk_models_epoch.pdf'\n",
        "display_linechart_epochs(data, output_file)\n",
        "\n",
        "data = [[0.5062,\t0.5035,\t0.9062,\t0.6473],\n",
        "        [0.5125,\t0.5066,\t0.9563,\t0.6623],\n",
        "        [0.5125,\t0.5066,\t0.9563,\t0.6623],\n",
        "        [0.5125,\t0.5069,\t0.9125,\t0.6518]]\n",
        "output_file = 'ce_pairs_epoch.pdf'\n",
        "display_linechart_epochs(data, output_file)\n"
      ],
      "execution_count": 0,
      "outputs": []
    }
  ]
}